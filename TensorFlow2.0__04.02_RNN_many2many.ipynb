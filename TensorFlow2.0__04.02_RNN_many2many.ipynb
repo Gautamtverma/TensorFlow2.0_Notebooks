{
 "cells": [
  {
   "cell_type": "markdown",
   "metadata": {},
   "source": [
    "# Recurrent Neural Network in TensorFlow 2.0\n",
    "## Univariate, *many-to-many* forecast\n",
    "\n",
    "Author: **Ivan Bongiorni**, Data Scientist.\n",
    "[LinkedIn profile](https://www.linkedin.com/in/ivan-bongiorni-b8a583164/).\n",
    "\n",
    "**Recurrent Neural Networks** are the time series version of Artificial Neural Networks. I will skip the theory behing the recurrent cells available in the Deep Learning literature (basic RNN cells, LSTMs, GRUs) and will show how to implement a basic model in **TensorFlow 2.0** with **Eager execution**. Since LSTM cells are by far the most common, and arguably the most performing RNN cells, I will employ those.\n",
    "\n",
    "This time, I will show a ***univariate, many-to-many*** RNN implementation. In other words, I will train an RNN forecaster that takes a sequence of data as input, and returns a prediction of a series of following variables state. As in the [previous RNN Notebook](https://github.com/IvanBongiorni/TensorFlow2.0_Tutorial/blob/master/TensorFlow2.0__04.01_RNN_many2one.ipynb) I will show **how to prepare RNN input**, which is not at all clear for a Deep Learning rookie."
   ]
  },
  {
   "cell_type": "markdown",
   "metadata": {},
   "source": [
    "*********\n",
    "\n",
    "\n",
    "***SPOILER: YOU WON'T GET RICH AFTER READING THIS***\n",
    "\n",
    "\n",
    "*********"
   ]
  },
  {
   "cell_type": "markdown",
   "metadata": {},
   "source": [
    "Summary:\n",
    "\n",
    "0. Import data\n",
    "0. Dataprep for RNNs\n",
    "0. RNN architecture\n",
    "0. Prediction\n",
    "0. Conclusions (i.e. why you didn't become rich)"
   ]
  },
  {
   "cell_type": "code",
   "execution_count": 1,
   "metadata": {},
   "outputs": [
    {
     "name": "stdout",
     "output_type": "stream",
     "text": [
      "2.0.0-beta0\n"
     ]
    }
   ],
   "source": [
    "import numpy as np\n",
    "import pandas as pd\n",
    "from sklearn.utils import shuffle\n",
    "\n",
    "import tensorflow as tf\n",
    "print(tf.__version__)\n",
    "\n",
    "from matplotlib import pyplot as plt"
   ]
  },
  {
   "cell_type": "markdown",
   "metadata": {},
   "source": [
    "# 0. Import data"
   ]
  },
  {
   "cell_type": "markdown",
   "metadata": {},
   "source": [
    "I can read the data table directly from [coinmarketcap](https://coinmarketcap.com/currencies/bitcoin/historical-data/?start=20130428&end=20190626). It reports daily prices, together with volume and market capitalization in US dollars.\n",
    "\n",
    "Pandas has a `.read_html()` function to take data directly from websites. The link returns two dataframes; daily BTC price data are in the first, therefore I'll keep only that."
   ]
  },
  {
   "cell_type": "code",
   "execution_count": 2,
   "metadata": {},
   "outputs": [
    {
     "name": "stdout",
     "output_type": "stream",
     "text": [
      "(2251, 7)\n"
     ]
    }
   ],
   "source": [
    "df, _ = pd.read_html('https://coinmarketcap.com/currencies/bitcoin/historical-data/?start=20130428&end=20190626')\n",
    "\n",
    "print(df.shape)"
   ]
  },
  {
   "cell_type": "code",
   "execution_count": 3,
   "metadata": {},
   "outputs": [
    {
     "data": {
      "text/html": [
       "<div>\n",
       "<style scoped>\n",
       "    .dataframe tbody tr th:only-of-type {\n",
       "        vertical-align: middle;\n",
       "    }\n",
       "\n",
       "    .dataframe tbody tr th {\n",
       "        vertical-align: top;\n",
       "    }\n",
       "\n",
       "    .dataframe thead th {\n",
       "        text-align: right;\n",
       "    }\n",
       "</style>\n",
       "<table border=\"1\" class=\"dataframe\">\n",
       "  <thead>\n",
       "    <tr style=\"text-align: right;\">\n",
       "      <th></th>\n",
       "      <th>index</th>\n",
       "      <th>date</th>\n",
       "      <th>open</th>\n",
       "      <th>high</th>\n",
       "      <th>low</th>\n",
       "      <th>close</th>\n",
       "      <th>volume</th>\n",
       "      <th>marketcap</th>\n",
       "    </tr>\n",
       "  </thead>\n",
       "  <tbody>\n",
       "    <tr>\n",
       "      <th>0</th>\n",
       "      <td>2250</td>\n",
       "      <td>Apr 28, 2013</td>\n",
       "      <td>135.30</td>\n",
       "      <td>135.98</td>\n",
       "      <td>132.10</td>\n",
       "      <td>134.21</td>\n",
       "      <td>-</td>\n",
       "      <td>1488566728</td>\n",
       "    </tr>\n",
       "    <tr>\n",
       "      <th>1</th>\n",
       "      <td>2249</td>\n",
       "      <td>Apr 29, 2013</td>\n",
       "      <td>134.44</td>\n",
       "      <td>147.49</td>\n",
       "      <td>134.00</td>\n",
       "      <td>144.54</td>\n",
       "      <td>-</td>\n",
       "      <td>1603768865</td>\n",
       "    </tr>\n",
       "    <tr>\n",
       "      <th>2</th>\n",
       "      <td>2248</td>\n",
       "      <td>Apr 30, 2013</td>\n",
       "      <td>144.00</td>\n",
       "      <td>146.93</td>\n",
       "      <td>134.05</td>\n",
       "      <td>139.00</td>\n",
       "      <td>-</td>\n",
       "      <td>1542813125</td>\n",
       "    </tr>\n",
       "    <tr>\n",
       "      <th>3</th>\n",
       "      <td>2247</td>\n",
       "      <td>May 01, 2013</td>\n",
       "      <td>139.00</td>\n",
       "      <td>139.89</td>\n",
       "      <td>107.72</td>\n",
       "      <td>116.99</td>\n",
       "      <td>-</td>\n",
       "      <td>1298954594</td>\n",
       "    </tr>\n",
       "    <tr>\n",
       "      <th>4</th>\n",
       "      <td>2246</td>\n",
       "      <td>May 02, 2013</td>\n",
       "      <td>116.38</td>\n",
       "      <td>125.60</td>\n",
       "      <td>92.28</td>\n",
       "      <td>105.21</td>\n",
       "      <td>-</td>\n",
       "      <td>1168517495</td>\n",
       "    </tr>\n",
       "    <tr>\n",
       "      <th>5</th>\n",
       "      <td>2245</td>\n",
       "      <td>May 03, 2013</td>\n",
       "      <td>106.25</td>\n",
       "      <td>108.13</td>\n",
       "      <td>79.10</td>\n",
       "      <td>97.75</td>\n",
       "      <td>-</td>\n",
       "      <td>1085995169</td>\n",
       "    </tr>\n",
       "    <tr>\n",
       "      <th>6</th>\n",
       "      <td>2244</td>\n",
       "      <td>May 04, 2013</td>\n",
       "      <td>98.10</td>\n",
       "      <td>115.00</td>\n",
       "      <td>92.50</td>\n",
       "      <td>112.50</td>\n",
       "      <td>-</td>\n",
       "      <td>1250316563</td>\n",
       "    </tr>\n",
       "    <tr>\n",
       "      <th>7</th>\n",
       "      <td>2243</td>\n",
       "      <td>May 05, 2013</td>\n",
       "      <td>112.90</td>\n",
       "      <td>118.80</td>\n",
       "      <td>107.14</td>\n",
       "      <td>115.91</td>\n",
       "      <td>-</td>\n",
       "      <td>1288693176</td>\n",
       "    </tr>\n",
       "    <tr>\n",
       "      <th>8</th>\n",
       "      <td>2242</td>\n",
       "      <td>May 06, 2013</td>\n",
       "      <td>115.98</td>\n",
       "      <td>124.66</td>\n",
       "      <td>106.64</td>\n",
       "      <td>112.30</td>\n",
       "      <td>-</td>\n",
       "      <td>1249023060</td>\n",
       "    </tr>\n",
       "    <tr>\n",
       "      <th>9</th>\n",
       "      <td>2241</td>\n",
       "      <td>May 07, 2013</td>\n",
       "      <td>112.25</td>\n",
       "      <td>113.44</td>\n",
       "      <td>97.70</td>\n",
       "      <td>111.50</td>\n",
       "      <td>-</td>\n",
       "      <td>1240593600</td>\n",
       "    </tr>\n",
       "  </tbody>\n",
       "</table>\n",
       "</div>"
      ],
      "text/plain": [
       "   index          date    open    high     low   close volume   marketcap\n",
       "0   2250  Apr 28, 2013  135.30  135.98  132.10  134.21      -  1488566728\n",
       "1   2249  Apr 29, 2013  134.44  147.49  134.00  144.54      -  1603768865\n",
       "2   2248  Apr 30, 2013  144.00  146.93  134.05  139.00      -  1542813125\n",
       "3   2247  May 01, 2013  139.00  139.89  107.72  116.99      -  1298954594\n",
       "4   2246  May 02, 2013  116.38  125.60   92.28  105.21      -  1168517495\n",
       "5   2245  May 03, 2013  106.25  108.13   79.10   97.75      -  1085995169\n",
       "6   2244  May 04, 2013   98.10  115.00   92.50  112.50      -  1250316563\n",
       "7   2243  May 05, 2013  112.90  118.80  107.14  115.91      -  1288693176\n",
       "8   2242  May 06, 2013  115.98  124.66  106.64  112.30      -  1249023060\n",
       "9   2241  May 07, 2013  112.25  113.44   97.70  111.50      -  1240593600"
      ]
     },
     "execution_count": 3,
     "metadata": {},
     "output_type": "execute_result"
    }
   ],
   "source": [
    "# I rename col names\n",
    "df.columns = ['date', 'open', 'high', 'low', 'close', 'volume', 'marketcap']\n",
    "\n",
    "# Sort df from older to newer\n",
    "df.sort_index(ascending = False, inplace = True)\n",
    "df.reset_index(inplace = True)\n",
    "\n",
    "df.head(10)"
   ]
  },
  {
   "cell_type": "code",
   "execution_count": 4,
   "metadata": {},
   "outputs": [
    {
     "data": {
      "image/png": "[encoded data removed]",
      "text/plain": [
       "<Figure size 432x288 with 1 Axes>"
      ]
     },
     "metadata": {
      "needs_background": "light"
     },
     "output_type": "display_data"
    }
   ],
   "source": [
    "# take BTC daily closing price\n",
    "price = df.close.values\n",
    "\n",
    "plt.plot(price)\n",
    "plt.title('BTC daily closing price (28 April 2013 - 26 June 2019)')\n",
    "plt.show()"
   ]
  },
  {
   "cell_type": "code",
   "execution_count": null,
   "metadata": {},
   "outputs": [],
   "source": []
  },
  {
   "cell_type": "markdown",
   "metadata": {},
   "source": [
    "# 1. Dataprep for RNNs"
   ]
  },
  {
   "cell_type": "markdown",
   "metadata": {},
   "source": [
    "The first thing to do is to scale your time series in the `[0, 1]` interval. Canonical LSTM cells contain **Sigmoid** and **Tanh** gates that do their best when data are in that range."
   ]
  },
  {
   "cell_type": "markdown",
   "metadata": {},
   "source": [
    "## Train-Test split\n",
    "The current analysis is univariate, this means that we are trying to predict future values of a given series exclusively on the basis of its previous states. Because of this, a train-test split must be temporal, i.e. all the observations before a given point in time will be used to train the model, and all the observations after that will be used to test its performance."
   ]
  },
  {
   "cell_type": "code",
   "execution_count": 5,
   "metadata": {},
   "outputs": [
    {
     "name": "stdout",
     "output_type": "stream",
     "text": [
      "1951\n",
      "300\n"
     ]
    }
   ],
   "source": [
    "test_size = 300\n",
    "\n",
    "Train = price[:-test_size]\n",
    "Test = price[-test_size:]\n",
    "\n",
    "print(len(Train))\n",
    "print(len(Test))"
   ]
  },
  {
   "cell_type": "code",
   "execution_count": 6,
   "metadata": {},
   "outputs": [],
   "source": [
    "# save max() and min() to revert scaling later\n",
    "max_price = np.max(Train)\n",
    "min_price = np.min(Train)\n",
    "\n",
    "# Min-max scaling:\n",
    "Train = (Train - min_price) / (max_price - min_price)\n",
    "Test = (Test - min_price) / (max_price - min_price)"
   ]
  },
  {
   "cell_type": "code",
   "execution_count": 7,
   "metadata": {},
   "outputs": [
    {
     "data": {
      "image/png": "[encoded data removed]",
      "text/plain": [
       "<Figure size 432x288 with 1 Axes>"
      ]
     },
     "metadata": {
      "needs_background": "light"
     },
     "output_type": "display_data"
    }
   ],
   "source": [
    "plt.plot(Train)\n",
    "plt.title('Train series')\n",
    "plt.show()"
   ]
  },
  {
   "cell_type": "markdown",
   "metadata": {},
   "source": [
    "## Choosing the input size\n",
    "A very important hyperparameter is the size of the time window that you are going to feed into the Network at each iteration. Dataprep for RNNs requires series data to be preprocessed in sliding sequences. Given the series:\n",
    "\n",
    "```\n",
    "A, B, C, D, E, F, G, H, I\n",
    "```\n",
    "\n",
    "and assuming you want to use the previous 3 states to predict the following 2, you would get:\n",
    "\n",
    "```\n",
    "Train:        Test:\n",
    "A, B, C       D, E\n",
    "B, C, D       E, F\n",
    "C, D, E       F, G\n",
    "D, E, F       G, H\n",
    "E, F, G       H, I\n",
    "```\n",
    "\n",
    "The observations RNNs receive as inputs are series of data. Each series covers a time window of the series. Their length is an hyperparameter of the model that one can choose, and that I determined by an input of 180 days. The output sequence will be 7 days instead, meaning I'll try to predict the next week of BTC price."
   ]
  },
  {
   "cell_type": "code",
   "execution_count": 8,
   "metadata": {},
   "outputs": [],
   "source": [
    "input_length = 90\n",
    "prediction_length = 14"
   ]
  },
  {
   "cell_type": "code",
   "execution_count": 9,
   "metadata": {
    "scrolled": true
   },
   "outputs": [],
   "source": [
    "# Dataprep function for RNN data\n",
    "\n",
    "def RNN_dataprep(series, len_input, len_pred):\n",
    "    '''\n",
    "    From time series and two hyperparameters: \n",
    "    input length and output length, returns Train \n",
    "    and Test numpy arrays for many-to-many RNNs.\n",
    "    \n",
    "    Args:\n",
    "        series: time series data\n",
    "        len_input: length of input sequences\n",
    "        len_pred: no. of steps ahead to forecast\n",
    "    '''\n",
    "    import numpy as np\n",
    "    \n",
    "    # create a matrix of sequences\n",
    "    S = np.empty((len(series)-(len_input+len_pred)+1, \n",
    "                  len_input+len_pred))\n",
    "    \n",
    "    # take each row/time window\n",
    "    for i in range(S.shape[0]):\n",
    "        S[i,:] = series[i : i+len_input+len_pred]\n",
    "    \n",
    "    # first (len_input) cols of S are train\n",
    "    train = S[: , :len_input]\n",
    "    \n",
    "    # last (len_pred) cols of S are test\n",
    "    test = S[: , -len_pred:]\n",
    "    \n",
    "    # set common data type\n",
    "    train = train.astype(np.float32)\n",
    "    test = test.astype(np.float32)\n",
    "    \n",
    "    # reshape data as required by Keras LSTM\n",
    "    train = train.reshape((len(train), len_input, 1))\n",
    "    test = test.reshape((len(test), len_pred))\n",
    "    \n",
    "    return train, test\n"
   ]
  },
  {
   "cell_type": "code",
   "execution_count": 10,
   "metadata": {},
   "outputs": [],
   "source": [
    "# Get all Train and Test data\n",
    "X_train, Y_train = RNN_dataprep(Train, input_length, prediction_length)\n",
    "\n",
    "X_test, Y_test = RNN_dataprep(Test, input_length, prediction_length)"
   ]
  },
  {
   "cell_type": "markdown",
   "metadata": {},
   "source": [
    "## Understand the shape of input data for RNNs\n",
    "\n",
    "This is a crucial point. It was not at all clear to understand how to reshape the input data for RNNs, and it's important to spend few words on it.\n",
    "\n",
    "Let's take a look at the shape of input data for Keras' LSTM layers:"
   ]
  },
  {
   "cell_type": "code",
   "execution_count": 11,
   "metadata": {},
   "outputs": [
    {
     "name": "stdout",
     "output_type": "stream",
     "text": [
      "(1848, 90, 1)\n",
      "(197, 90, 1)\n"
     ]
    }
   ],
   "source": [
    "print(X_train.shape)\n",
    "print(X_test.shape)"
   ]
  },
  {
   "cell_type": "markdown",
   "metadata": {},
   "source": [
    "Input data must follow this pattern:\n",
    "\n",
    "`( Number of observations , Window size , Number of input series )`\n",
    "\n",
    "The *Number of observations* is straightforward. The *Number of input series* is just 1, since this is a univariate exercise. *Window size* is the hyperparameter that I chose above.\n",
    "\n",
    "In this *many-to-many* exercise, test data have the same shape:"
   ]
  },
  {
   "cell_type": "code",
   "execution_count": 12,
   "metadata": {},
   "outputs": [
    {
     "name": "stdout",
     "output_type": "stream",
     "text": [
      "(1848, 14)\n",
      "(197, 14)\n"
     ]
    }
   ],
   "source": [
    "print(Y_train.shape)\n",
    "print(Y_test.shape)"
   ]
  },
  {
   "cell_type": "code",
   "execution_count": null,
   "metadata": {},
   "outputs": [],
   "source": []
  },
  {
   "cell_type": "markdown",
   "metadata": {},
   "source": [
    "# 2. RNN architecture\n",
    "\n",
    "The initial LSTM layer requires a specification of its `input_shape`. To correctly specify this, follow this simple rule: take the `X_train.shape`: `(1847, 90, 1)`, drop the first dimension: `(90, 1)`, there you have the correct `input_shape`. It's as easy as that.\n",
    "\n",
    "For Deep RNNs, each `LSTM()` that is not the last requires `return_sequences = True`. That is because an LSTM layer that is not outputting to `Dense()` layers must receive a series of data to be processed, so you want other layers to return a sequence of data of a kind similar to your input.\n",
    "\n",
    "The first `Dense()` layer has the same size of the previous `LSTM`s output sequence (90 nodes). This intermediate layer fires to the output layer, that has a number of nodes equal to the number of forecast steps. Regression tasks require no activation function at the output layer, since *no activation* means *linear activation*."
   ]
  },
  {
   "cell_type": "code",
   "execution_count": 13,
   "metadata": {},
   "outputs": [
    {
     "name": "stdout",
     "output_type": "stream",
     "text": [
      "Model: \"sequential\"\n",
      "_________________________________________________________________\n",
      "Layer (type)                 Output Shape              Param #   \n",
      "=================================================================\n",
      "lstm (LSTM)                  (None, 90, 90)            33120     \n",
      "_________________________________________________________________\n",
      "lstm_1 (LSTM)                (None, 90)                65160     \n",
      "_________________________________________________________________\n",
      "dense (Dense)                (None, 14)                1274      \n",
      "=================================================================\n",
      "Total params: 99,554\n",
      "Trainable params: 99,554\n",
      "Non-trainable params: 0\n",
      "_________________________________________________________________\n"
     ]
    }
   ],
   "source": [
    "from tensorflow.keras import Sequential\n",
    "from tensorflow.keras.layers import LSTM, Dense, Flatten\n",
    "from tensorflow.keras.activations import relu\n",
    "\n",
    "\n",
    "RNN = Sequential([ \n",
    "    \n",
    "    LSTM(90, activation = relu, \n",
    "         return_sequences=True, input_shape = (input_length, 1)), \n",
    "    \n",
    "    LSTM(90, activation = relu), \n",
    "    \n",
    "    Dense(prediction_length, activation = None)\n",
    "    \n",
    "])\n",
    "\n",
    "\n",
    "RNN.summary()"
   ]
  },
  {
   "cell_type": "markdown",
   "metadata": {
    "scrolled": true
   },
   "source": [
    "I will show how to train a model in **Eager execution**. This will allow us to better understand what happens inside the Network during training (i.e. the weight update through backpropagation) and it will also leave more freedom in implementation and output."
   ]
  },
  {
   "cell_type": "code",
   "execution_count": 14,
   "metadata": {
    "scrolled": false
   },
   "outputs": [
    {
     "name": "stdout",
     "output_type": "stream",
     "text": [
      "0.\t  Training Loss: 0.031115977\n",
      "50.\t  Training Loss: 0.0023781385\n",
      "100.\t  Training Loss: 0.00056722783\n",
      "150.\t  Training Loss: 0.00049736514\n",
      "200.\t  Training Loss: 0.0003214238\n",
      "250.\t  Training Loss: 0.00036968815\n",
      "300.\t  Training Loss: 0.000208826\n",
      "350.\t  Training Loss: 0.00025781087\n",
      "400.\t  Training Loss: 0.0002102347\n",
      "450.\t  Training Loss: 0.00017407903\n",
      "500.\t  Training Loss: 0.0002425554\n",
      "550.\t  Training Loss: 0.00020485693\n",
      "600.\t  Training Loss: 0.00030036134\n",
      "650.\t  Training Loss: 0.0002652433\n",
      "700.\t  Training Loss: 0.00010116707\n",
      "750.\t  Training Loss: 0.00014663785\n",
      "800.\t  Training Loss: 0.0001652629\n",
      "850.\t  Training Loss: 0.00013518312\n",
      "900.\t  Training Loss: 0.0001964693\n",
      "950.\t  Training Loss: 0.00015815841\n",
      "1000.\t  Training Loss: 0.00017855954\n",
      "\n",
      "Training complete.\n"
     ]
    }
   ],
   "source": [
    "###  TRAINING\n",
    "\n",
    "# Choose no. cycles, epochs, batch size\n",
    "cycles = 1000\n",
    "batch_size = 100\n",
    "n_epochs = X_train.shape[0] // batch_size\n",
    "\n",
    "# typical regression loss is MSE\n",
    "loss = tf.keras.losses.MeanSquaredError()\n",
    "\n",
    "optimizer = tf.optimizers.Adam(learning_rate = 0.0001)\n",
    "\n",
    "# save training progress\n",
    "loss_history = []\n",
    "\n",
    "X_t = np.copy(X_train)\n",
    "Y_t = np.copy(Y_train)\n",
    "\n",
    "\n",
    "for cycle in range(cycles+1):\n",
    "    \n",
    "    # Shuffle the dataset at each new cycle\n",
    "    X_train, Y_train = shuffle(X_train, Y_train, \n",
    "                               random_state = cycle+111)\n",
    "    \n",
    "    for epoch in range(n_epochs):\n",
    "        \n",
    "        # Take a mini batch\n",
    "        start = epoch * batch_size\n",
    "        X_batch = X_train[start:start+batch_size, :, :]\n",
    "        Y_batch = Y_train[start:start+batch_size, :]\n",
    "        \n",
    "        # Update weights (training)\n",
    "        with tf.GradientTape() as tape:\n",
    "            current_loss = loss(RNN(X_batch), Y_batch)\n",
    "        gradients = tape.gradient(current_loss, RNN.trainable_variables)\n",
    "        optimizer.apply_gradients(zip(gradients, RNN.trainable_variables))\n",
    "        \n",
    "    # save history\n",
    "    loss_history.append(current_loss.numpy())\n",
    "    \n",
    "    # Print progress at the end of each cycle\n",
    "    if (cycle) % 50 == 0:\n",
    "        print(str(cycle) \n",
    "              + '.\\t  Training Loss: ' \n",
    "              + str(current_loss.numpy()))\n",
    "#\n",
    "print('\\nTraining complete.')\n"
   ]
  },
  {
   "cell_type": "code",
   "execution_count": 15,
   "metadata": {},
   "outputs": [
    {
     "data": {
      "image/png": "[encoded data removed]",
      "text/plain": [
       "<Figure size 432x288 with 1 Axes>"
      ]
     },
     "metadata": {
      "needs_background": "light"
     },
     "output_type": "display_data"
    }
   ],
   "source": [
    "plt.plot(loss_history)\n",
    "plt.title('Loss history')\n",
    "plt.show()"
   ]
  },
  {
   "cell_type": "code",
   "execution_count": null,
   "metadata": {},
   "outputs": [],
   "source": []
  },
  {
   "cell_type": "markdown",
   "metadata": {},
   "source": [
    "# 3. Prediction"
   ]
  },
  {
   "cell_type": "code",
   "execution_count": 16,
   "metadata": {},
   "outputs": [
    {
     "data": {
      "image/png": "[encoded data removed]",
      "text/plain": [
       "<Figure size 432x288 with 1 Axes>"
      ]
     },
     "metadata": {
      "needs_background": "light"
     },
     "output_type": "display_data"
    }
   ],
   "source": [
    "X_tp = X_t.reshape((X_t.shape[0], X_t.shape[1]))\n",
    "\n",
    "plt.plot(X_tp[:,0])\n",
    "plt.show()"
   ]
  },
  {
   "cell_type": "markdown",
   "metadata": {},
   "source": [
    "First, I want to take a look at how good my RNN was able to adapt to the training series:"
   ]
  },
  {
   "cell_type": "code",
   "execution_count": 17,
   "metadata": {},
   "outputs": [],
   "source": [
    "# Revert min-max scaling\n",
    "Y_test = Y_test * (max_price - min_price) + min_price"
   ]
  },
  {
   "cell_type": "code",
   "execution_count": 18,
   "metadata": {},
   "outputs": [],
   "source": [
    "# Generate prediction on test data\n",
    "P_test = RNN.predict(X_test)\n",
    "\n",
    "# Revert scaling\n",
    "P_test = P_test * (max_price - min_price) + min_price\n",
    "\n",
    "# Reshape the arrays to 2D\n",
    "Y_test = Y_test.reshape((Y_test.shape[0], Y_test.shape[1]))\n",
    "P_test = P_test.reshape((P_test.shape[0], P_test.shape[1]))"
   ]
  },
  {
   "cell_type": "markdown",
   "metadata": {},
   "source": [
    "Let's check how precise prediction is at different time lags:"
   ]
  },
  {
   "cell_type": "code",
   "execution_count": 19,
   "metadata": {},
   "outputs": [
    {
     "data": {
      "image/png": "[encoded data removed]",
      "text/plain": [
       "<Figure size 432x288 with 1 Axes>"
      ]
     },
     "metadata": {
      "needs_background": "light"
     },
     "output_type": "display_data"
    }
   ],
   "source": [
    "# 1 day prediction\n",
    "\n",
    "plt.plot(Y_test[:,0], label = 'Actual')\n",
    "plt.plot(P_test[:,0], label = 'Prediction')\n",
    "plt.legend()\n",
    "plt.title('1 day Prediction Vs Test' \n",
    "          + '\\nRMSE: ' + str(np.mean(np.sqrt((Y_test[:,0] - P_test[:,0])**2))))\n",
    "plt.show()"
   ]
  },
  {
   "cell_type": "code",
   "execution_count": 20,
   "metadata": {},
   "outputs": [
    {
     "data": {
      "image/png": "[encoded data removed]",
      "text/plain": [
       "<Figure size 432x288 with 1 Axes>"
      ]
     },
     "metadata": {
      "needs_background": "light"
     },
     "output_type": "display_data"
    }
   ],
   "source": [
    "# 7 days prediction\n",
    "\n",
    "plt.plot(Y_test[:,6], label = 'Actual')\n",
    "plt.plot(P_test[:,6], label = 'Prediction')\n",
    "plt.legend()\n",
    "plt.title('10 day Prediction Vs Test' \n",
    "          + '\\nRMSE: ' + str(np.mean(np.sqrt((Y_test[:,9] - P_test[:,9])**2))))\n",
    "plt.show()"
   ]
  },
  {
   "cell_type": "code",
   "execution_count": 21,
   "metadata": {},
   "outputs": [
    {
     "data": {
      "image/png": "[encoded data removed]",
      "text/plain": [
       "<Figure size 432x288 with 1 Axes>"
      ]
     },
     "metadata": {
      "needs_background": "light"
     },
     "output_type": "display_data"
    }
   ],
   "source": [
    "# 14 days prediction\n",
    "\n",
    "plt.plot(Y_test[:,13], label = 'Actual')\n",
    "plt.plot(P_test[:,13], label = 'Prediction')\n",
    "plt.legend()\n",
    "plt.title('20 day Prediction Vs Test' \n",
    "          + '\\nRMSE: ' + str(np.mean(np.sqrt((Y_test[:,13] - P_test[:,13])**2))))\n",
    "plt.show()"
   ]
  },
  {
   "cell_type": "markdown",
   "metadata": {},
   "source": [
    "I'll check visually the prediction at all the available time lags:"
   ]
  },
  {
   "cell_type": "code",
   "execution_count": 22,
   "metadata": {},
   "outputs": [
    {
     "data": {
      "image/png": "[encoded data removed]",
      "text/plain": [
       "<Figure size 432x288 with 1 Axes>"
      ]
     },
     "metadata": {
      "needs_background": "light"
     },
     "output_type": "display_data"
    }
   ],
   "source": [
    "timelag_RMSE = []\n",
    "\n",
    "for i in range(Y_test.shape[1]):\n",
    "    timelag_RMSE.append(np.mean(np.sqrt((Y_test[:,i] - P_test[:,i])**2)))\n",
    "\n",
    "plt.plot(timelag_RMSE)\n",
    "plt.title('RNN precision in forecast at different time lags')\n",
    "plt.show()"
   ]
  },
  {
   "cell_type": "markdown",
   "metadata": {},
   "source": [
    "As the plot show, the RMSE seems to increase quite regularly the more far in the future we try to predict."
   ]
  },
  {
   "cell_type": "code",
   "execution_count": null,
   "metadata": {},
   "outputs": [],
   "source": []
  },
  {
   "cell_type": "markdown",
   "metadata": {},
   "source": [
    "\n",
    "# Conclusions (i.e. why you didn't become rich)\n",
    "\n",
    "Since the first time we heard of Recurrent Neural Networks, we probably all thought about employing these models to predict phenomena such as cryptocurrency or stock market fluctuations. One lesson we can take from this exercise is that time series models are not very effective. As François Chollet explained:\n",
    "\n",
    "> *Markets have very different statistical characteristics than natural phenomena such as weather patterns. Trying to use machine learning to beat markets, when you only have access to publicly available data, is a difficult endeavor, and you’re likely to waste your time and resources with nothing to show for it.*\n",
    ">\n",
    "> *Always remember that when it comes to markets, past performance is not a good predictor of future returns—looking in the rear-view mirror is a bad way to drive. Machine learning, on the other hand, is applicable to datasets where the past is a good predictor of the future.*\n",
    "\n",
    "François Chollet, *Deep Learning with Python*, Manning, p. 224."
   ]
  },
  {
   "cell_type": "code",
   "execution_count": null,
   "metadata": {},
   "outputs": [],
   "source": []
  }
 ],
 "metadata": {
  "kernelspec": {
   "display_name": "Python 3",
   "language": "python",
   "name": "python3"
  },
  "language_info": {
   "codemirror_mode": {
    "name": "ipython",
    "version": 3
   },
   "file_extension": ".py",
   "mimetype": "text/x-python",
   "name": "python",
   "nbconvert_exporter": "python",
   "pygments_lexer": "ipython3",
   "version": "3.6.6"
  }
 },
 "nbformat": 4,
 "nbformat_minor": 2
}
