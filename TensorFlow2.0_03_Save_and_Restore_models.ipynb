{
 "cells": [
  {
   "cell_type": "markdown",
   "metadata": {},
   "source": [
    "# Save and Restore Models in TensorFlow 2.0\n",
    "\n",
    "#### Author: Ivan Bongiorni, Data Scientist at GfK.\n",
    "\n",
    "[LinkedIn profile](https://www.linkedin.com/in/ivan-bongiorni-b8a583164/), personal email: ivanbongiorni@gmail.com\n",
    "\n",
    "Summary:\n",
    "\n",
    "1. Load data + quick dataprep,\n",
    "2. Model architecture,\n",
    "3. Save the model afte training,\n",
    "4. Restore the model and keep training."
   ]
  },
  {
   "cell_type": "code",
   "execution_count": 1,
   "metadata": {},
   "outputs": [
    {
     "name": "stdout",
     "output_type": "stream",
     "text": [
      "2.0.0-alpha0\n"
     ]
    }
   ],
   "source": [
    "import numpy as np\n",
    "import pandas as pd\n",
    "\n",
    "import tensorflow as tf\n",
    "print(tf.__version__)\n",
    "\n",
    "from matplotlib import pyplot as plt"
   ]
  },
  {
   "cell_type": "markdown",
   "metadata": {},
   "source": [
    "## 1. Load data + dataprep\n",
    "\n",
    "The spam classification dataset, [available from the UCI ML repository](https://archive.ics.uci.edu/ml/datasets/spambase), contains an already preprocessed collection of email data. Each datapoint corresponds to an email, and is classified as either \"spam\" or \"not spam\"."
   ]
  },
  {
   "cell_type": "code",
   "execution_count": 2,
   "metadata": {},
   "outputs": [
    {
     "data": {
      "text/plain": [
       "(4601, 58)"
      ]
     },
     "execution_count": 2,
     "metadata": {},
     "output_type": "execute_result"
    }
   ],
   "source": [
    "# load dataframe\n",
    "df = pd.read_csv(\"https://archive.ics.uci.edu/ml/machine-learning-databases/spambase/spambase.data\", header=None)\n",
    "df.shape"
   ]
  },
  {
   "cell_type": "code",
   "execution_count": 3,
   "metadata": {},
   "outputs": [],
   "source": [
    "# one-hot encode target variable\n",
    "classification = pd.get_dummies(df.iloc[:,57])\n",
    "\n",
    "df = df.drop(df.columns[57], axis=1)   # drop target col from explanatory df\n",
    "\n",
    "df = df.values.astype(np.float64)\n",
    "classification = classification.values.astype(np.float64)"
   ]
  },
  {
   "cell_type": "code",
   "execution_count": 4,
   "metadata": {},
   "outputs": [
    {
     "name": "stdout",
     "output_type": "stream",
     "text": [
      "X_train shape: (3450, 57)\n",
      "y_train shape: (3450, 2)\n",
      "\n",
      "X_test shape: (1151, 57)\n",
      "y_test shape: (1151, 2)\n"
     ]
    }
   ],
   "source": [
    "## TRAIN-TEST SPLIT\n",
    "from sklearn.model_selection import train_test_split\n",
    "\n",
    "X_train, X_test, y_train, y_test = train_test_split(df, classification, test_size=0.25, random_state=173)\n",
    "\n",
    "print('X_train shape: ' + str(X_train.shape) + '\\ny_train shape: ' + str(y_train.shape))\n",
    "print('\\nX_test shape: ' + str(X_test.shape) + '\\ny_test shape: ' + str(y_test.shape))\n",
    "\n",
    "\n",
    "# SCALE DATA\n",
    "from sklearn.preprocessing import StandardScaler\n",
    "\n",
    "scaler = StandardScaler()\n",
    "X_train = scaler.fit_transform(X_train)\n",
    "X_test = scaler.transform(X_test)"
   ]
  },
  {
   "cell_type": "markdown",
   "metadata": {},
   "source": [
    "## 2. Model architecture"
   ]
  },
  {
   "cell_type": "code",
   "execution_count": 5,
   "metadata": {},
   "outputs": [],
   "source": [
    "from tensorflow.keras.layers import Dense, Dropout\n",
    "from tensorflow.keras.activations import elu, softmax\n",
    "\n",
    "# Architecture\n",
    "n_input = X_train.shape[1]\n",
    "n_hidden1 = 30\n",
    "n_hidden2 = 30\n",
    "n_hidden3 = 15\n",
    "n_output = y_train.shape[1]\n",
    "\n",
    "# set dropout probability\n",
    "dropout_prob = 0.1\n",
    "\n",
    "\n",
    "\n",
    "model = tf.keras.models.Sequential([\n",
    "    Dense(n_input, input_shape = (n_input,), activation = elu),   # Input layer\n",
    "    \n",
    "    Dense(n_hidden1, activation = elu), # hidden layer 1\n",
    "    Dropout(dropout_prob), \n",
    "    \n",
    "    Dense(n_hidden2, activation = elu), # hidden layer 2\n",
    "    Dropout(dropout_prob), \n",
    "    \n",
    "    Dense(n_hidden3, activation = elu), # hidden layer 3\n",
    "    Dropout(dropout_prob), \n",
    "    \n",
    "    Dense(n_output, activation = softmax)  # Output layer\n",
    "])\n",
    "\n",
    "# set number of epochs\n",
    "n_epochs = 500\n",
    "\n",
    "# Loss: Binary cross-entropy \n",
    "bce_loss = tf.keras.losses.BinaryCrossentropy()\n",
    "\n",
    "# Binary Accuracy\n",
    "accuracy = tf.keras.metrics.BinaryAccuracy()\n",
    "\n",
    "# Adam Optimizer\n",
    "optimizer = tf.optimizers.Adam(learning_rate = 0.001)"
   ]
  },
  {
   "cell_type": "markdown",
   "metadata": {},
   "source": [
    "To train the Network, I will use the wrapper function from [the first Notebook](https://github.com/IvanBongiorni/TensorFlow2.0_Tutorial/blob/master/TensorFlow2.0_01_basic_Classifier.ipynb):"
   ]
  },
  {
   "cell_type": "code",
   "execution_count": 6,
   "metadata": {},
   "outputs": [],
   "source": [
    "\n",
    "def train_model(model, train, target, loss, optimizer, metrics, n_epochs, verbose=True, plot=True):\n",
    "    '''\n",
    "    Trains a TensorFlow 2.0 model\n",
    "    \n",
    "    Returns:\n",
    "        prediction: The model's prediction - numpy\n",
    "        loss_history: list\n",
    "        metrics_history: list\n",
    "    \n",
    "    Arguments:\n",
    "        model: a Sequential() model\n",
    "        train: Train dataset (numpy)\n",
    "        target: Target dataset - True outcome (numpy)\n",
    "        loss: loss object or function\n",
    "        optimizer: optimizer object (learnin rate is specified within)\n",
    "        metrics: an evaluation metrics of the model's goodness\n",
    "        n_epochs: number of iterations of training\n",
    "        verbose: print training progress yes/no\n",
    "        plot = plot loss and accuracy histories at the end of training y/n\n",
    "    '''\n",
    "    import numpy as np\n",
    "    import tensorflow as tf\n",
    "    import matplotlib.pyplot as plt\n",
    "    \n",
    "    \n",
    "    loss_history = []\n",
    "    metrics_history = []\n",
    "    \n",
    "    for epoch in range(n_epochs):\n",
    "    \n",
    "        with tf.GradientTape() as tape:\n",
    "            current_loss = loss(model(train), target)\n",
    "        \n",
    "        gradients = tape.gradient(current_loss, model.trainable_variables)\n",
    "        optimizer.apply_gradients(zip(gradients, model.trainable_variables))\n",
    "        \n",
    "        loss_history.append(current_loss.numpy())\n",
    "        metrics.update_state(target, model(train))\n",
    "        current_metrics = metrics.result().numpy()\n",
    "        metrics_history.append(current_metrics)\n",
    "        \n",
    "        if verbose:            \n",
    "            if (epoch+1) % 100 == 0:\n",
    "                print(str(epoch+1) \n",
    "                      + '.\\tTraining Loss: ' + str(current_loss.numpy()) \n",
    "                      + ',\\tAccuracy: ' + str(current_metrics))\n",
    "    \n",
    "        accuracy.reset_states()\n",
    "    \n",
    "    print('\\nTraining complete.')\n",
    "    \n",
    "    prediction = model(X_train)\n",
    "    \n",
    "    if plot:\n",
    "        plt.figure(figsize = (15, 4))\n",
    "        plt.subplots_adjust(wspace=0.2)  # this distances the plots\n",
    "\n",
    "        plt.subplot(1, 2, 1)\n",
    "        plt.plot(loss_history)\n",
    "        plt.title('Loss History')\n",
    "        plt.xlabel('epochs')\n",
    "        plt.ylabel('Binary Cross-Entropy')\n",
    "\n",
    "        plt.subplot(1, 2, 2)\n",
    "        plt.plot(metrics_history)\n",
    "        plt.title('Metrics History')\n",
    "        plt.xlabel('epochs')\n",
    "        plt.ylabel('Metrics')\n",
    "        \n",
    "        plt.show()\n",
    "    \n",
    "    return loss_history, metrics_history"
   ]
  },
  {
   "cell_type": "markdown",
   "metadata": {},
   "source": [
    "And call it:"
   ]
  },
  {
   "cell_type": "code",
   "execution_count": 7,
   "metadata": {},
   "outputs": [
    {
     "name": "stdout",
     "output_type": "stream",
     "text": [
      "100.\tTraining Loss: 1.08087158203125,\tAccuracy: 0.9356522\n",
      "200.\tTraining Loss: 0.8725841641426086,\tAccuracy: 0.9472464\n",
      "300.\tTraining Loss: 0.7593502402305603,\tAccuracy: 0.95246375\n",
      "400.\tTraining Loss: 0.7209241986274719,\tAccuracy: 0.9542029\n",
      "500.\tTraining Loss: 0.7009227275848389,\tAccuracy: 0.95507246\n",
      "\n",
      "Training complete.\n"
     ]
    },
    {
     "data": {
      "image/png": "[encoded data removed]",
      "text/plain": [
       "<Figure size 1080x288 with 2 Axes>"
      ]
     },
     "metadata": {
      "needs_background": "light"
     },
     "output_type": "display_data"
    }
   ],
   "source": [
    "loss_history, accuracy_history = train_model(model, X_train, y_train, \n",
    "                                             bce_loss, optimizer, accuracy, n_epochs)"
   ]
  },
  {
   "cell_type": "markdown",
   "metadata": {},
   "source": [
    "## 3. Save the model after training\n",
    "\n",
    "In TensorFlow 2.0 it's as simple as that:"
   ]
  },
  {
   "cell_type": "code",
   "execution_count": 13,
   "metadata": {},
   "outputs": [],
   "source": [
    "# just specify model's name and directory\n",
    "tf.saved_model.save(model, 'home/ ... /path/to/folder')"
   ]
  },
  {
   "cell_type": "markdown",
   "metadata": {},
   "source": [
    "At this point, you'll find a saved_model.pb object in the directory your speficied. That file contains your Neural Network, with its architecture and its trained weights."
   ]
  },
  {
   "cell_type": "markdown",
   "metadata": {},
   "source": [
    "## 4. Restore the model and keep training\n",
    "\n",
    "Let's say you have time to train your model a little more. Let's restore it and continue to train it."
   ]
  },
  {
   "cell_type": "code",
   "execution_count": 9,
   "metadata": {},
   "outputs": [],
   "source": [
    "# you just need 'load' from the same directory you wrote above\n",
    "restored_model = tf.saved_model.load('home/ ... /path/to/folder')"
   ]
  },
  {
   "cell_type": "markdown",
   "metadata": {},
   "source": [
    "At this point, we can keep training our model for other 500 epochs:"
   ]
  },
  {
   "cell_type": "code",
   "execution_count": 10,
   "metadata": {},
   "outputs": [
    {
     "name": "stdout",
     "output_type": "stream",
     "text": [
      "100.\tTraining Loss: 0.6489710807800293,\tAccuracy: 0.9582609\n",
      "200.\tTraining Loss: 0.6375355124473572,\tAccuracy: 0.9588406\n",
      "300.\tTraining Loss: 0.6364323496818542,\tAccuracy: 0.9588406\n",
      "400.\tTraining Loss: 0.6316857933998108,\tAccuracy: 0.9591304\n",
      "500.\tTraining Loss: 0.6307226419448853,\tAccuracy: 0.9591304\n",
      "\n",
      "Training complete.\n"
     ]
    },
    {
     "data": {
      "image/png": "[encoded data removed]",
      "text/plain": [
       "<Figure size 1080x288 with 2 Axes>"
      ]
     },
     "metadata": {
      "needs_background": "light"
     },
     "output_type": "display_data"
    }
   ],
   "source": [
    "loss_history, accuracy_history = train_model(model, X_train, y_train, \n",
    "                                             bce_loss, optimizer, accuracy, n_epochs)"
   ]
  },
  {
   "cell_type": "markdown",
   "metadata": {},
   "source": [
    "As you can see, the loss and accuracy scores are a continuation from previous training. Training a model in multiple sessions by saving and restoring it when needed can be vital for very heavy models."
   ]
  },
  {
   "cell_type": "code",
   "execution_count": null,
   "metadata": {},
   "outputs": [],
   "source": []
  },
  {
   "cell_type": "code",
   "execution_count": null,
   "metadata": {},
   "outputs": [],
   "source": []
  },
  {
   "cell_type": "code",
   "execution_count": null,
   "metadata": {},
   "outputs": [],
   "source": []
  }
 ],
 "metadata": {
  "kernelspec": {
   "display_name": "Python 3",
   "language": "python",
   "name": "python3"
  },
  "language_info": {
   "codemirror_mode": {
    "name": "ipython",
    "version": 3
   },
   "file_extension": ".py",
   "mimetype": "text/x-python",
   "name": "python",
   "nbconvert_exporter": "python",
   "pygments_lexer": "ipython3",
   "version": "3.6.6"
  }
 },
 "nbformat": 4,
 "nbformat_minor": 2
}
