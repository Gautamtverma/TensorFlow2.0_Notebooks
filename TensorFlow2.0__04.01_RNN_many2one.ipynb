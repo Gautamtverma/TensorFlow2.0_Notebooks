{
 "cells": [
  {
   "cell_type": "markdown",
   "metadata": {},
   "source": [
    "# Recurrent Neural Network in TensorFlow 2.0\n",
    "## Univariate, *many-to-one* forecast\n",
    "\n",
    "Author: **Ivan Bongiorni**, Data Scientist.\n",
    "[LinkedIn profile](https://www.linkedin.com/in/ivan-bongiorni-b8a583164/).\n",
    "\n",
    "**Recurrent Neural Networks** are the time series version of Artificial Neural Networks. I will skip the theory behing the recurrent cells available in the Deep Learning literature (basic RNN cells, LSTMs, GRUs) and will show how to implement a basic one in **TensorFlow 2.0**. Since LSTM cells are by far the most common, and arguably the most performing RNN cells, I will employ those.\n",
    "\n",
    "This time, I will show a ***many-to-one*** RNN implementation. In other words, I will train an RNN that takes a sequence of data as input, and returns a prediction of the single, following variables state.\n",
    "\n",
    "Moreover, I will show **how to prepare RNN input**. This is a crucial point for all TensorFlow 2.0 / Keras users, since it can be quite confusing at the beginning (it certainly was for me).\n",
    "\n",
    "And of course, I will show how to train an RNN in **Eager execution**, avoiding Keras' syntax. Higher freedom in implementation always comes at the price of slightly higher complexity."
   ]
  },
  {
   "cell_type": "markdown",
   "metadata": {},
   "source": [
    "### Bitcoin price prediction\n",
    "For this task, I will employ **Bitcoin** (**BTC**) price time series. The goal of the present Notebook is to implement an RNN that is able to predict daily BTC closing price, provided a sequence of previous states.\n",
    "\n",
    "Summary:\n",
    "0. Import data\n",
    "0. Dataprep for RNNs\n",
    "0. RNN architecture\n",
    "0. Training\n",
    "0. Prediction"
   ]
  },
  {
   "cell_type": "code",
   "execution_count": 1,
   "metadata": {},
   "outputs": [
    {
     "name": "stdout",
     "output_type": "stream",
     "text": [
      "2.0.0-beta0\n"
     ]
    }
   ],
   "source": [
    "import numpy as np\n",
    "import pandas as pd\n",
    "from sklearn.utils import shuffle\n",
    "\n",
    "import tensorflow as tf\n",
    "print(tf.__version__)\n",
    "\n",
    "from matplotlib import pyplot as plt"
   ]
  },
  {
   "cell_type": "markdown",
   "metadata": {},
   "source": [
    "# 0. Import data"
   ]
  },
  {
   "cell_type": "markdown",
   "metadata": {},
   "source": [
    "I can read the BTC data table directly from [coinmarketcap](https://coinmarketcap.com/currencies/bitcoin/historical-data/?start=20130428&end=20190626). It reports daily prices, together with volume and market capitalization in US dollars.\n",
    "\n",
    "Pandas has a `.read_html()` function to take data directly from websites. The link returns two dataframes; daily BTC price data are in the first, therefore I'll keep only that."
   ]
  },
  {
   "cell_type": "code",
   "execution_count": 2,
   "metadata": {},
   "outputs": [
    {
     "name": "stdout",
     "output_type": "stream",
     "text": [
      "(2251, 7)\n"
     ]
    }
   ],
   "source": [
    "df, _ = pd.read_html('https://coinmarketcap.com/currencies/bitcoin/historical-data/?start=20130428&end=20190626')\n",
    "\n",
    "print(df.shape)"
   ]
  },
  {
   "cell_type": "code",
   "execution_count": 3,
   "metadata": {},
   "outputs": [],
   "source": [
    "# I don't like colnames, so I'll rename them\n",
    "df.columns = ['date', 'open', 'high', 'low', 'close', 'volume', 'marketcap']"
   ]
  },
  {
   "cell_type": "code",
   "execution_count": 4,
   "metadata": {},
   "outputs": [
    {
     "data": {
      "text/html": [
       "<div>\n",
       "<style scoped>\n",
       "    .dataframe tbody tr th:only-of-type {\n",
       "        vertical-align: middle;\n",
       "    }\n",
       "\n",
       "    .dataframe tbody tr th {\n",
       "        vertical-align: top;\n",
       "    }\n",
       "\n",
       "    .dataframe thead th {\n",
       "        text-align: right;\n",
       "    }\n",
       "</style>\n",
       "<table border=\"1\" class=\"dataframe\">\n",
       "  <thead>\n",
       "    <tr style=\"text-align: right;\">\n",
       "      <th></th>\n",
       "      <th>index</th>\n",
       "      <th>date</th>\n",
       "      <th>open</th>\n",
       "      <th>high</th>\n",
       "      <th>low</th>\n",
       "      <th>close</th>\n",
       "      <th>volume</th>\n",
       "      <th>marketcap</th>\n",
       "    </tr>\n",
       "  </thead>\n",
       "  <tbody>\n",
       "    <tr>\n",
       "      <th>0</th>\n",
       "      <td>2250</td>\n",
       "      <td>Apr 28, 2013</td>\n",
       "      <td>135.30</td>\n",
       "      <td>135.98</td>\n",
       "      <td>132.10</td>\n",
       "      <td>134.21</td>\n",
       "      <td>-</td>\n",
       "      <td>1488566728</td>\n",
       "    </tr>\n",
       "    <tr>\n",
       "      <th>1</th>\n",
       "      <td>2249</td>\n",
       "      <td>Apr 29, 2013</td>\n",
       "      <td>134.44</td>\n",
       "      <td>147.49</td>\n",
       "      <td>134.00</td>\n",
       "      <td>144.54</td>\n",
       "      <td>-</td>\n",
       "      <td>1603768865</td>\n",
       "    </tr>\n",
       "    <tr>\n",
       "      <th>2</th>\n",
       "      <td>2248</td>\n",
       "      <td>Apr 30, 2013</td>\n",
       "      <td>144.00</td>\n",
       "      <td>146.93</td>\n",
       "      <td>134.05</td>\n",
       "      <td>139.00</td>\n",
       "      <td>-</td>\n",
       "      <td>1542813125</td>\n",
       "    </tr>\n",
       "    <tr>\n",
       "      <th>3</th>\n",
       "      <td>2247</td>\n",
       "      <td>May 01, 2013</td>\n",
       "      <td>139.00</td>\n",
       "      <td>139.89</td>\n",
       "      <td>107.72</td>\n",
       "      <td>116.99</td>\n",
       "      <td>-</td>\n",
       "      <td>1298954594</td>\n",
       "    </tr>\n",
       "    <tr>\n",
       "      <th>4</th>\n",
       "      <td>2246</td>\n",
       "      <td>May 02, 2013</td>\n",
       "      <td>116.38</td>\n",
       "      <td>125.60</td>\n",
       "      <td>92.28</td>\n",
       "      <td>105.21</td>\n",
       "      <td>-</td>\n",
       "      <td>1168517495</td>\n",
       "    </tr>\n",
       "    <tr>\n",
       "      <th>5</th>\n",
       "      <td>2245</td>\n",
       "      <td>May 03, 2013</td>\n",
       "      <td>106.25</td>\n",
       "      <td>108.13</td>\n",
       "      <td>79.10</td>\n",
       "      <td>97.75</td>\n",
       "      <td>-</td>\n",
       "      <td>1085995169</td>\n",
       "    </tr>\n",
       "    <tr>\n",
       "      <th>6</th>\n",
       "      <td>2244</td>\n",
       "      <td>May 04, 2013</td>\n",
       "      <td>98.10</td>\n",
       "      <td>115.00</td>\n",
       "      <td>92.50</td>\n",
       "      <td>112.50</td>\n",
       "      <td>-</td>\n",
       "      <td>1250316563</td>\n",
       "    </tr>\n",
       "    <tr>\n",
       "      <th>7</th>\n",
       "      <td>2243</td>\n",
       "      <td>May 05, 2013</td>\n",
       "      <td>112.90</td>\n",
       "      <td>118.80</td>\n",
       "      <td>107.14</td>\n",
       "      <td>115.91</td>\n",
       "      <td>-</td>\n",
       "      <td>1288693176</td>\n",
       "    </tr>\n",
       "    <tr>\n",
       "      <th>8</th>\n",
       "      <td>2242</td>\n",
       "      <td>May 06, 2013</td>\n",
       "      <td>115.98</td>\n",
       "      <td>124.66</td>\n",
       "      <td>106.64</td>\n",
       "      <td>112.30</td>\n",
       "      <td>-</td>\n",
       "      <td>1249023060</td>\n",
       "    </tr>\n",
       "    <tr>\n",
       "      <th>9</th>\n",
       "      <td>2241</td>\n",
       "      <td>May 07, 2013</td>\n",
       "      <td>112.25</td>\n",
       "      <td>113.44</td>\n",
       "      <td>97.70</td>\n",
       "      <td>111.50</td>\n",
       "      <td>-</td>\n",
       "      <td>1240593600</td>\n",
       "    </tr>\n",
       "  </tbody>\n",
       "</table>\n",
       "</div>"
      ],
      "text/plain": [
       "   index          date    open    high     low   close volume   marketcap\n",
       "0   2250  Apr 28, 2013  135.30  135.98  132.10  134.21      -  1488566728\n",
       "1   2249  Apr 29, 2013  134.44  147.49  134.00  144.54      -  1603768865\n",
       "2   2248  Apr 30, 2013  144.00  146.93  134.05  139.00      -  1542813125\n",
       "3   2247  May 01, 2013  139.00  139.89  107.72  116.99      -  1298954594\n",
       "4   2246  May 02, 2013  116.38  125.60   92.28  105.21      -  1168517495\n",
       "5   2245  May 03, 2013  106.25  108.13   79.10   97.75      -  1085995169\n",
       "6   2244  May 04, 2013   98.10  115.00   92.50  112.50      -  1250316563\n",
       "7   2243  May 05, 2013  112.90  118.80  107.14  115.91      -  1288693176\n",
       "8   2242  May 06, 2013  115.98  124.66  106.64  112.30      -  1249023060\n",
       "9   2241  May 07, 2013  112.25  113.44   97.70  111.50      -  1240593600"
      ]
     },
     "execution_count": 4,
     "metadata": {},
     "output_type": "execute_result"
    }
   ],
   "source": [
    "# Sort data from older to newer\n",
    "df.sort_index(ascending = False, inplace = True)\n",
    "df.reset_index(inplace = True)\n",
    "df.head(10)"
   ]
  },
  {
   "cell_type": "markdown",
   "metadata": {},
   "source": [
    "I chose each day's BTC closing price for my analysis. Since it's a univariate exercise I'll take just that one:"
   ]
  },
  {
   "cell_type": "code",
   "execution_count": 5,
   "metadata": {},
   "outputs": [],
   "source": [
    "# take BTC closing price series\n",
    "price = df.close.values"
   ]
  },
  {
   "cell_type": "code",
   "execution_count": 6,
   "metadata": {},
   "outputs": [
    {
     "data": {
      "image/png": "[encoded data removed]",
      "text/plain": [
       "<Figure size 432x288 with 1 Axes>"
      ]
     },
     "metadata": {
      "needs_background": "light"
     },
     "output_type": "display_data"
    }
   ],
   "source": [
    "plt.plot(price)\n",
    "plt.title('BTC daily closing price (28 April 2013 - 26 June 2019)')\n",
    "plt.show()"
   ]
  },
  {
   "cell_type": "code",
   "execution_count": null,
   "metadata": {},
   "outputs": [],
   "source": []
  },
  {
   "cell_type": "markdown",
   "metadata": {},
   "source": [
    "# 1. Dataprep for RNNs"
   ]
  },
  {
   "cell_type": "markdown",
   "metadata": {},
   "source": [
    "The first thing to do is to scale your time series in the `[0, 1]` interval. Canonical LSTM cells contain **Sigmoid** and **Tanh** gates that do their best when data are in that range."
   ]
  },
  {
   "cell_type": "markdown",
   "metadata": {},
   "source": [
    "## Train-Test split\n",
    "The current analysis is univariate, this means that we are trying to predict future values of a given series exclusively on the basis of its previous states. Because of this, a train-test split must be temporal, i.e. all the observations before a given point in time will be used to train the model, and all the observations after that will be used to test its performance."
   ]
  },
  {
   "cell_type": "code",
   "execution_count": 7,
   "metadata": {},
   "outputs": [
    {
     "name": "stdout",
     "output_type": "stream",
     "text": [
      "1751\n",
      "500\n"
     ]
    }
   ],
   "source": [
    "test_size = 500\n",
    "\n",
    "Train = price[:-test_size]\n",
    "Test = price[-test_size:]\n",
    "\n",
    "print(len(Train))\n",
    "print(len(Test))"
   ]
  },
  {
   "cell_type": "code",
   "execution_count": 8,
   "metadata": {},
   "outputs": [],
   "source": [
    "# save max() and min() to revert scaling later\n",
    "max_price = np.max(Train)\n",
    "min_price = np.min(Train)\n",
    "\n",
    "# Min-max scaling based on Train params:\n",
    "Train = (Train - min_price) / (max_price - min_price)\n",
    "Test = (Test - min_price) / (max_price - min_price)"
   ]
  },
  {
   "cell_type": "code",
   "execution_count": 9,
   "metadata": {},
   "outputs": [
    {
     "data": {
      "image/png": "[encoded data removed]",
      "text/plain": [
       "<Figure size 432x288 with 1 Axes>"
      ]
     },
     "metadata": {
      "needs_background": "light"
     },
     "output_type": "display_data"
    }
   ],
   "source": [
    "plt.plot(Train)\n",
    "plt.title('Train series')\n",
    "plt.show()"
   ]
  },
  {
   "cell_type": "markdown",
   "metadata": {},
   "source": [
    "## Choosing a window size\n",
    "\n",
    "A very important hyperparameter is the size of the time window that you are going to feed into the Network at each iteration. Dataprep for RNNs requires series data to be preprocessed in sliding sequences. Given the series:\n",
    "\n",
    "```\n",
    "A, B, C, D, E, F, G, H, I\n",
    "```\n",
    "\n",
    "Assuming you want to use the previous 3 states to predict the following one, you would get:\n",
    "\n",
    "```\n",
    " Train:        Test:\n",
    " A, B, C       D\n",
    " B, C, D       E\n",
    " C, D, E       F\n",
    " D, E, F       G\n",
    " E, F, G       H\n",
    " F, G, H       I\n",
    "```\n",
    "\n",
    "The observations RNNs receive as inputs are series of data. Each series covers a time window of the series. Their length is an hyperparameter of the model that one can choose, and that I determined by an input of 90 days. The output sequence will be 1 day instead."
   ]
  },
  {
   "cell_type": "code",
   "execution_count": 10,
   "metadata": {},
   "outputs": [],
   "source": [
    "window_size = 90"
   ]
  },
  {
   "cell_type": "markdown",
   "metadata": {},
   "source": [
    "The observations RNNs receive as inputs are series of data. Each series covers a time window of the series. Their length is an hyperparameter of the model that one can choose, and that I determined by `window_size` = 90 days."
   ]
  },
  {
   "cell_type": "code",
   "execution_count": 11,
   "metadata": {
    "scrolled": true
   },
   "outputs": [],
   "source": [
    "# Dataprep function for RNN data\n",
    "\n",
    "def RNN_dataprep(series, window):\n",
    "    '''\n",
    "    Given a time series and a time window hyperparameter, \n",
    "    returns Train and Test numpy arrays for RNNs\n",
    "    '''\n",
    "    import numpy as np\n",
    "    \n",
    "    # create train dataframe\n",
    "    train = np.empty((len(series)-window, window))\n",
    "    \n",
    "    # take each row/time window\n",
    "    for i in range(train.shape[0]):\n",
    "        train[i,:] = series[i : i+window]\n",
    "    \n",
    "    # take each t+1 as test\n",
    "    test = series[window:]\n",
    "    \n",
    "    # set common data type\n",
    "    train = train.astype(np.float32)\n",
    "    test = test.astype(np.float32)\n",
    "    \n",
    "    # reshape data as required by Keras LSTM\n",
    "    train = train.reshape((len(train), window, 1))\n",
    "    test = test.reshape((len(test), 1))\n",
    "    \n",
    "    return train, test\n"
   ]
  },
  {
   "cell_type": "code",
   "execution_count": 12,
   "metadata": {},
   "outputs": [],
   "source": [
    "# Get all Train and Test data\n",
    "X_train, Y_train = RNN_dataprep(Train, window_size)\n",
    "X_test, Y_test = RNN_dataprep(Test, window_size)"
   ]
  },
  {
   "cell_type": "markdown",
   "metadata": {},
   "source": [
    "## Understand the shape of input data for RNNs\n",
    "\n",
    "This is a crucial point. It was not at all clear to understand how to reshape the input data for RNNs, and it's important to spend few words on it.\n",
    "\n",
    "Let's take a look at the shape of input data for Keras' LSTM layers:"
   ]
  },
  {
   "cell_type": "code",
   "execution_count": 13,
   "metadata": {},
   "outputs": [
    {
     "name": "stdout",
     "output_type": "stream",
     "text": [
      "(1661, 90, 1)\n",
      "(410, 90, 1)\n"
     ]
    }
   ],
   "source": [
    "print(X_train.shape)\n",
    "print(X_test.shape)"
   ]
  },
  {
   "cell_type": "markdown",
   "metadata": {},
   "source": [
    "Input data must follow this pattern:\n",
    "\n",
    "`( Number of observations ,  Window size  ,  Number of input series )`\n",
    "\n",
    "The *Number of observations* is straightforward. *Window size* is the hyperparameter that I chose above. The *Number of input series* is just 1, sice this is a univariate exercise."
   ]
  },
  {
   "cell_type": "markdown",
   "metadata": {},
   "source": [
    "Target data, on the other side, don't require much explanation:"
   ]
  },
  {
   "cell_type": "code",
   "execution_count": 14,
   "metadata": {},
   "outputs": [
    {
     "name": "stdout",
     "output_type": "stream",
     "text": [
      "(1661, 1)\n",
      "(410, 1)\n"
     ]
    }
   ],
   "source": [
    "print(Y_train.shape)\n",
    "print(Y_test.shape)"
   ]
  },
  {
   "cell_type": "code",
   "execution_count": 15,
   "metadata": {},
   "outputs": [
    {
     "data": {
      "image/png": "[encoded data removed]",
      "text/plain": [
       "<Figure size 432x288 with 1 Axes>"
      ]
     },
     "metadata": {
      "needs_background": "light"
     },
     "output_type": "display_data"
    }
   ],
   "source": [
    "plt.plot(Y_test)\n",
    "plt.title('Test series')\n",
    "plt.show()"
   ]
  },
  {
   "cell_type": "code",
   "execution_count": null,
   "metadata": {},
   "outputs": [],
   "source": []
  },
  {
   "cell_type": "markdown",
   "metadata": {},
   "source": [
    "# 2. RNN architecture\n",
    "\n",
    "The initial LSTM layer requires a specification of its `input_shape`. To correctly specify this, follow this simple rule: take the `X_train.shape`: `(1661, 90, 1)`, drop the first dimension: `(90, 1)`, there you have the correct `input_shape`. It's as easy as that.\n",
    "\n",
    "For Deep RNNs, each `LSTM()` that is not the last requires `return_sequences = True`. That is because an LSTM layer that is not outputting to a `Dense(1)` layer must receive a series of data to be processed, so you want other layers to return a sequence of data of a kind similar to your input.\n",
    "\n",
    "Finally, `Dense(1)` means the output of the Network is the Bitcoin price of the subsequent day. Regression tasks require no activation function at the output layer, since *no activation* means *linear activation*."
   ]
  },
  {
   "cell_type": "code",
   "execution_count": 16,
   "metadata": {},
   "outputs": [],
   "source": [
    "from tensorflow.keras import Sequential\n",
    "from tensorflow.keras.layers import LSTM, Dense\n",
    "\n",
    "RNN = Sequential([ \n",
    "    \n",
    "    LSTM(90, return_sequences=True, \n",
    "         input_shape = (window_size, 1)), \n",
    "    \n",
    "    LSTM(90), \n",
    "    \n",
    "    Dense(1, activation = None) \n",
    "    \n",
    "])\n"
   ]
  },
  {
   "cell_type": "code",
   "execution_count": 17,
   "metadata": {},
   "outputs": [
    {
     "name": "stdout",
     "output_type": "stream",
     "text": [
      "Model: \"sequential\"\n",
      "_________________________________________________________________\n",
      "Layer (type)                 Output Shape              Param #   \n",
      "=================================================================\n",
      "lstm (LSTM)                  (None, 90, 90)            33120     \n",
      "_________________________________________________________________\n",
      "lstm_1 (LSTM)                (None, 90)                65160     \n",
      "_________________________________________________________________\n",
      "dense (Dense)                (None, 1)                 91        \n",
      "=================================================================\n",
      "Total params: 98,371\n",
      "Trainable params: 98,371\n",
      "Non-trainable params: 0\n",
      "_________________________________________________________________\n"
     ]
    }
   ],
   "source": [
    "RNN.summary()"
   ]
  },
  {
   "cell_type": "code",
   "execution_count": null,
   "metadata": {},
   "outputs": [],
   "source": []
  },
  {
   "cell_type": "markdown",
   "metadata": {},
   "source": [
    "# 3. Training"
   ]
  },
  {
   "cell_type": "markdown",
   "metadata": {
    "scrolled": true
   },
   "source": [
    "At this point, using the **Keras** syntax, you could compile and train a model with:\n",
    "\n",
    "```\n",
    "RNN.compile(loss = 'mse', optimizer = 'adam')\n",
    "history = RNN.fit(X_train, Y_train, epochs=50, batch_size=50)\n",
    "```\n",
    "\n",
    "I will show how to train a model in **Eager execution**. This will allow us to better understand what happens inside the Network during training (i.e. the weight update through backpropagation) and it will also leave me more freedom in implementation and ouput."
   ]
  },
  {
   "cell_type": "code",
   "execution_count": 18,
   "metadata": {},
   "outputs": [],
   "source": [
    "# save a backup before shuffling mini batches\n",
    "X_backup = np.copy(X_train)\n",
    "Y_backup = np.copy(Y_train)"
   ]
  },
  {
   "cell_type": "code",
   "execution_count": 19,
   "metadata": {
    "scrolled": false
   },
   "outputs": [
    {
     "name": "stdout",
     "output_type": "stream",
     "text": [
      "0.\tTraining Loss: 0.0010265228\n",
      "50.\tTraining Loss: 3.679572e-05\n",
      "100.\tTraining Loss: 0.00014436893\n",
      "150.\tTraining Loss: 4.7528956e-05\n",
      "200.\tTraining Loss: 1.2453908e-05\n",
      "250.\tTraining Loss: 0.00010121207\n",
      "300.\tTraining Loss: 4.0773713e-05\n",
      "350.\tTraining Loss: 6.957725e-05\n",
      "400.\tTraining Loss: 4.197782e-05\n",
      "450.\tTraining Loss: 8.2885446e-05\n",
      "500.\tTraining Loss: 4.941923e-05\n",
      "550.\tTraining Loss: 2.1188243e-05\n",
      "600.\tTraining Loss: 5.892774e-05\n",
      "650.\tTraining Loss: 2.5246216e-05\n",
      "700.\tTraining Loss: 9.864099e-06\n",
      "750.\tTraining Loss: 1.1618339e-05\n",
      "800.\tTraining Loss: 1.4432847e-05\n",
      "850.\tTraining Loss: 1.790944e-05\n",
      "900.\tTraining Loss: 1.8369653e-06\n",
      "950.\tTraining Loss: 1.2029042e-05\n",
      "\n",
      "Training complete.\n"
     ]
    }
   ],
   "source": [
    "###  TRAINING\n",
    "\n",
    "# Choose no. cycles, epochs, batch size\n",
    "cycles = 1000\n",
    "batch_size = 50\n",
    "n_epochs = X_train.shape[0] // batch_size\n",
    "\n",
    "# typical regression loss is MSE\n",
    "loss = tf.keras.losses.MeanSquaredError()\n",
    "\n",
    "optimizer = tf.optimizers.Adam(learning_rate = 0.001)\n",
    "\n",
    "# save training progress\n",
    "loss_history = []\n",
    "\n",
    "\n",
    "\n",
    "for cycle in range(cycles):\n",
    "    \n",
    "    # Shuffle the dataset at each new cycle\n",
    "    X_train, Y_train = shuffle(X_train, Y_train, random_state = cycle+111)\n",
    "    \n",
    "    for epoch in range(n_epochs):\n",
    "        \n",
    "        # Take a mini batch\n",
    "        start = epoch * batch_size\n",
    "        X_batch = X_train[start:start+batch_size, :]\n",
    "        Y_batch = Y_train[start:start+batch_size, ]\n",
    "        \n",
    "        # Update weights (training)\n",
    "        with tf.GradientTape() as tape:\n",
    "            current_loss = loss(RNN(X_batch), Y_batch)\n",
    "        gradients = tape.gradient(current_loss, RNN.trainable_variables)\n",
    "        optimizer.apply_gradients(zip(gradients, RNN.trainable_variables))\n",
    "    \n",
    "    # save history\n",
    "    loss_history.append(current_loss.numpy())\n",
    "    \n",
    "    # Print progress at the end of each cycle\n",
    "    if cycle % 50 == 0:\n",
    "        print(str(cycle) \n",
    "              + '.\\tTraining Loss: ' \n",
    "              + str(loss_history[-1]))\n",
    "#\n",
    "print('\\nTraining complete.')"
   ]
  },
  {
   "cell_type": "code",
   "execution_count": 20,
   "metadata": {},
   "outputs": [
    {
     "data": {
      "image/png": "[encoded data removed]",
      "text/plain": [
       "<Figure size 432x288 with 1 Axes>"
      ]
     },
     "metadata": {
      "needs_background": "light"
     },
     "output_type": "display_data"
    }
   ],
   "source": [
    "plt.plot(loss_history)\n",
    "plt.title('Loss history')\n",
    "plt.show()"
   ]
  },
  {
   "cell_type": "code",
   "execution_count": null,
   "metadata": {},
   "outputs": [],
   "source": []
  },
  {
   "cell_type": "markdown",
   "metadata": {},
   "source": [
    "# 4. Prediction"
   ]
  },
  {
   "cell_type": "markdown",
   "metadata": {},
   "source": [
    "First, I want to take a look at how good my RNN was able to adapt to the training series:"
   ]
  },
  {
   "cell_type": "code",
   "execution_count": 21,
   "metadata": {},
   "outputs": [
    {
     "data": {
      "image/png": "[encoded data removed]",
      "text/plain": [
       "<Figure size 432x288 with 1 Axes>"
      ]
     },
     "metadata": {
      "needs_background": "light"
     },
     "output_type": "display_data"
    }
   ],
   "source": [
    "P_train = RNN.predict(X_backup)\n",
    "\n",
    "plt.plot(P_train, label='Predicted')\n",
    "plt.plot(Y_backup, label='Actual')\n",
    "plt.legend()\n",
    "plt.show()"
   ]
  },
  {
   "cell_type": "markdown",
   "metadata": {},
   "source": [
    "The way the RNN adapted to train data is quite impressive. Let's now look if my model can generalize well:"
   ]
  },
  {
   "cell_type": "code",
   "execution_count": 22,
   "metadata": {},
   "outputs": [],
   "source": [
    "# generate prediction\n",
    "P_test = RNN.predict(X_test)"
   ]
  },
  {
   "cell_type": "code",
   "execution_count": 23,
   "metadata": {},
   "outputs": [
    {
     "data": {
      "image/png": "[encoded data removed]",
      "text/plain": [
       "<Figure size 432x288 with 1 Axes>"
      ]
     },
     "metadata": {
      "needs_background": "light"
     },
     "output_type": "display_data"
    }
   ],
   "source": [
    "# reverse min-max scaling\n",
    "P_test = P_test * (max_price - min_price) + min_price\n",
    "Y_test = Y_test * (max_price - min_price) + min_price\n",
    "\n",
    "# Visualize performance\n",
    "plt.plot(P_test, label='Predicted')\n",
    "plt.plot(Y_test, label='Test')\n",
    "plt.legend()\n",
    "plt.title('Daily BTC prediction Vs. Actual trend')\n",
    "plt.show()"
   ]
  },
  {
   "cell_type": "code",
   "execution_count": 24,
   "metadata": {},
   "outputs": [
    {
     "data": {
      "text/plain": [
       "442.65063"
      ]
     },
     "execution_count": 24,
     "metadata": {},
     "output_type": "execute_result"
    }
   ],
   "source": [
    "# RMSE\n",
    "np.sqrt(np.mean((Y_test - P_test)**2))"
   ]
  },
  {
   "cell_type": "markdown",
   "metadata": {},
   "source": [
    "## Let's try a \"longer\" prediction\n",
    "\n",
    "At this point, let's try to make predictions further in the future. I will feed each one-day forecast back into the model, and will make it predict a longer sequence:"
   ]
  },
  {
   "cell_type": "code",
   "execution_count": 25,
   "metadata": {},
   "outputs": [
    {
     "data": {
      "text/plain": [
       "[]"
      ]
     },
     "execution_count": 25,
     "metadata": {},
     "output_type": "execute_result"
    },
    {
     "data": {
      "image/png": "[encoded data removed]",
      "text/plain": [
       "<Figure size 432x288 with 1 Axes>"
      ]
     },
     "metadata": {
      "needs_background": "light"
     },
     "output_type": "display_data"
    }
   ],
   "source": [
    "test_vector = list(price[len(Train)-window_size : len(Train)])\n",
    "\n",
    "stepwise_prediction = []\n",
    "\n",
    "for i in range(500):\n",
    "    \n",
    "    # reshape for RNN input\n",
    "    np_test = np.array(test_vector)\n",
    "    np_test = np_test.reshape((1, window_size, 1))\n",
    "    \n",
    "    # get daily BTC prediction\n",
    "    current_prediction = RNN.predict(np_test)\n",
    "    \n",
    "    # append to vectors for next iteration\n",
    "    stepwise_prediction.append(float(current_prediction))\n",
    "    test_vector.append(float(current_prediction))\n",
    "    test_vector = test_vector[1:]\n",
    "    \n",
    "    \n",
    "plt.plot(Test, label = 'Test data')\n",
    "plt.plot(stepwise_prediction, label = 'Stepwise prediction')\n",
    "plt.legend()\n",
    "plt.plot()"
   ]
  },
  {
   "cell_type": "markdown",
   "metadata": {},
   "source": [
    "As you can see, performance is not good this time. It's a *many-to-one* task, i.e. a model that takes many values as input and returns *one* output value (a daily price prediction). A model that predicts BTC price just one day at a time is perhaps not the best tool around.\n",
    "\n",
    "One this is worth noticing though: it seems the LSTM layers have learned some seasonality pattern of Training data. That is something that has probably emerged from the noise of the time series, suggesting that a glimps of pattern exists."
   ]
  },
  {
   "cell_type": "markdown",
   "metadata": {},
   "source": [
    "That's all for now. In future Notebooks, I will try two things: \n",
    "- multivariate models, that take multiple series as input (not just price itself but also other variables),\n",
    "- *many-to-many* models, that I will train to predict sequences of events instead of sigle values."
   ]
  },
  {
   "cell_type": "code",
   "execution_count": null,
   "metadata": {},
   "outputs": [],
   "source": []
  }
 ],
 "metadata": {
  "kernelspec": {
   "display_name": "Python 3",
   "language": "python",
   "name": "python3"
  },
  "language_info": {
   "codemirror_mode": {
    "name": "ipython",
    "version": 3
   },
   "file_extension": ".py",
   "mimetype": "text/x-python",
   "name": "python",
   "nbconvert_exporter": "python",
   "pygments_lexer": "ipython3",
   "version": "3.6.6"
  }
 },
 "nbformat": 4,
 "nbformat_minor": 2
}
