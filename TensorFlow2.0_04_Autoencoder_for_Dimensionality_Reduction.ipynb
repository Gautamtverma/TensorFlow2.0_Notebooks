{
 "cells": [
  {
   "cell_type": "markdown",
   "metadata": {
    "colab_type": "text",
    "id": "GTY-Msjal7zU"
   },
   "source": [
    "# Autoencoder for Dimensionality Reduction in TensorFlow 2.0\n",
    "\n",
    "### Author: Ivan Bongiorni, Data Scientist at GfK.\n",
    "\n",
    "[LinkedIn profile](https://www.linkedin.com/in/ivan-bongiorni-b8a583164/).\n",
    "\n",
    "\n"
   ]
  },
  {
   "cell_type": "markdown",
   "metadata": {
    "colab_type": "text",
    "id": "Z3M5ezRyrjA3"
   },
   "source": [
    "Summary:\n",
    "\n",
    "\n",
    "1.   What are Autoencoders?\n",
    "2.   Why would you need an Autoencoder?\n",
    "3.   Implementation and Training\n",
    "4.   Extraction of the encoded dataframe\n",
    "5.   Practical application"
   ]
  },
  {
   "cell_type": "markdown",
   "metadata": {
    "colab_type": "text",
    "id": "Kg83oWxMm92f"
   },
   "source": [
    "## 1. What are Autoencoders?\n",
    "\n",
    "This tutorial is about a very specific form of Neural Networks: **Autoencoders**.  \n",
    "\n",
    "There are several kinds of Autoencoders around, such as denoising Autoencoders or generative models (variational Autoencoders and GANs); they are all meant to accomplish very specific and different tasks. In this tutorial, I'll focus on their **dimensionality reduction** capabilities. Autoencoders for dimensionality reduction can be conceived as *the Neural Network-equivalent of Principal Component Analysis*.\n",
    "\n",
    "The purpose of this class fo models is neither to learn how to classify observations, nor to predict a continuous output, but to compress, or simplify a dataset. For this reason, they are **unsupervised models**, differently from mainstream Deep Learning models. All the data that pass through an Autoencoder are unlabeled.\n",
    "\n",
    "\n"
   ]
  },
  {
   "cell_type": "markdown",
   "metadata": {
    "colab_type": "text",
    "id": "IpcaQoQ9srG6"
   },
   "source": [
    "### Structure\n",
    "\n",
    "If I had to explain what an Autoencoder is to my grand mother, I'd do it like this: it can be seen as a couple of funnels joined by the tip: in order to make data must flow from one extreme to the other, you must force them through the bottleneck in the middle.\n",
    "\n"
   ]
  },
  {
   "cell_type": "markdown",
   "metadata": {
    "colab_type": "text",
    "id": "AvZTU-HzmZEo"
   },
   "source": [
    "More formally, it can be described as follows:\n",
    "\n",
    "![alt text](https://cdn-images-1.medium.com/max/800/1*44eDEuZBEsmG_TCAKRI3Kw@2x.png)\n",
    "\n",
    "(image from [towardsdatascience](https://towardsdatascience.com/applied-deep-learning-part-3-autoencoders-1c083af4d798))"
   ]
  },
  {
   "cell_type": "markdown",
   "metadata": {
    "colab_type": "text",
    "id": "cAxMjUCBUa43"
   },
   "source": [
    "Each Autoencoder is composed of two parts, an **Encoder** and a **Decoder**. The goal of the Encoder is to \"compress\" the dataset, representing its features with a number of nodes/variables that is narrower than the output layer; the goal of the Decoder is to learn how to reproduce, from the central encoded layer, the initial input values. Autoencoder are thus meant to reproduce the input data on the other extreme as accurately as possible.\n",
    "\n",
    "At this point, you have the right to be puzzled. The first time I've read about this architecture, I was like \"Wait a minute, what's the point of all that?!\". And in fact, it's completely pointless. But reproducing the same dataset on the other side of the Network is a trick that allows for a dimensionality reduction.\n",
    "\n",
    "The fact that the central hidden layers is narrower than the extremes forces the network to find the most efficient way to represent, at that layer, the same data in a more compressed form. The data that flow through that central layer can be seen as a form of dimensionality reduction."
   ]
  },
  {
   "cell_type": "markdown",
   "metadata": {
    "colab_type": "text",
    "id": "KMWIJUSerRVD"
   },
   "source": [
    "## 2. Why would you need an Autoencoder?\n",
    "\n",
    "Why would you need dimensionality reduction?\n",
    "\n",
    "As you have probably learned from PCA, dimensionality reduction techniques are particularly useful when dealing with very complex and/or multicollinear datasets. Thanks to the \"simplification\" they perform, it is also possible to train Machine Learnign models on datasets otherwise too big for your run-down old laptop (joking).\n",
    "\n",
    "### Ok, but why not good ol' PCA?\n",
    "\n",
    "The advantages of this kind of Neural Network architecture over the more classical PCA is that with an Autoencoder you can potentially capture any non-linear pattern of your data. From PCA instead, you can extract factors that are only linearly associated with your actual variables, making the process of dimensionality reduction much more \"rigid\"."
   ]
  },
  {
   "cell_type": "markdown",
   "metadata": {
    "colab_type": "text",
    "id": "eqK0oiaTsAQn"
   },
   "source": [
    "## 3. Implementation and Training\n",
    "\n"
   ]
  },
  {
   "cell_type": "markdown",
   "metadata": {
    "colab_type": "text",
    "id": "-3rPWJBemIEb"
   },
   "source": [
    "### Import data from UCI ML repository\n",
    "\n",
    "The purpose of this dataset is to reduce the dimensionality of the University of Wisconsin's breast cancer dataset."
   ]
  },
  {
   "cell_type": "code",
   "execution_count": 1,
   "metadata": {
    "colab": {},
    "colab_type": "code",
    "id": "kOKrNBGSlz2t"
   },
   "outputs": [
    {
     "name": "stdout",
     "output_type": "stream",
     "text": [
      "2.0.0-alpha0\n"
     ]
    }
   ],
   "source": [
    "import numpy as np\n",
    "import pandas as pd\n",
    "\n",
    "import tensorflow as tf\n",
    "print(tf.__version__)\n",
    "\n",
    "import matplotlib.pyplot as plt"
   ]
  },
  {
   "cell_type": "code",
   "execution_count": 2,
   "metadata": {},
   "outputs": [
    {
     "data": {
      "text/html": [
       "<div>\n",
       "<style scoped>\n",
       "    .dataframe tbody tr th:only-of-type {\n",
       "        vertical-align: middle;\n",
       "    }\n",
       "\n",
       "    .dataframe tbody tr th {\n",
       "        vertical-align: top;\n",
       "    }\n",
       "\n",
       "    .dataframe thead th {\n",
       "        text-align: right;\n",
       "    }\n",
       "</style>\n",
       "<table border=\"1\" class=\"dataframe\">\n",
       "  <thead>\n",
       "    <tr style=\"text-align: right;\">\n",
       "      <th></th>\n",
       "      <th>0</th>\n",
       "      <th>1</th>\n",
       "      <th>2</th>\n",
       "      <th>3</th>\n",
       "      <th>4</th>\n",
       "      <th>5</th>\n",
       "      <th>6</th>\n",
       "      <th>7</th>\n",
       "      <th>8</th>\n",
       "      <th>9</th>\n",
       "      <th>...</th>\n",
       "      <th>22</th>\n",
       "      <th>23</th>\n",
       "      <th>24</th>\n",
       "      <th>25</th>\n",
       "      <th>26</th>\n",
       "      <th>27</th>\n",
       "      <th>28</th>\n",
       "      <th>29</th>\n",
       "      <th>30</th>\n",
       "      <th>31</th>\n",
       "    </tr>\n",
       "  </thead>\n",
       "  <tbody>\n",
       "    <tr>\n",
       "      <th>0</th>\n",
       "      <td>842302</td>\n",
       "      <td>M</td>\n",
       "      <td>17.99</td>\n",
       "      <td>10.38</td>\n",
       "      <td>122.80</td>\n",
       "      <td>1001.0</td>\n",
       "      <td>0.11840</td>\n",
       "      <td>0.27760</td>\n",
       "      <td>0.3001</td>\n",
       "      <td>0.14710</td>\n",
       "      <td>...</td>\n",
       "      <td>25.38</td>\n",
       "      <td>17.33</td>\n",
       "      <td>184.60</td>\n",
       "      <td>2019.0</td>\n",
       "      <td>0.1622</td>\n",
       "      <td>0.6656</td>\n",
       "      <td>0.7119</td>\n",
       "      <td>0.2654</td>\n",
       "      <td>0.4601</td>\n",
       "      <td>0.11890</td>\n",
       "    </tr>\n",
       "    <tr>\n",
       "      <th>1</th>\n",
       "      <td>842517</td>\n",
       "      <td>M</td>\n",
       "      <td>20.57</td>\n",
       "      <td>17.77</td>\n",
       "      <td>132.90</td>\n",
       "      <td>1326.0</td>\n",
       "      <td>0.08474</td>\n",
       "      <td>0.07864</td>\n",
       "      <td>0.0869</td>\n",
       "      <td>0.07017</td>\n",
       "      <td>...</td>\n",
       "      <td>24.99</td>\n",
       "      <td>23.41</td>\n",
       "      <td>158.80</td>\n",
       "      <td>1956.0</td>\n",
       "      <td>0.1238</td>\n",
       "      <td>0.1866</td>\n",
       "      <td>0.2416</td>\n",
       "      <td>0.1860</td>\n",
       "      <td>0.2750</td>\n",
       "      <td>0.08902</td>\n",
       "    </tr>\n",
       "    <tr>\n",
       "      <th>2</th>\n",
       "      <td>84300903</td>\n",
       "      <td>M</td>\n",
       "      <td>19.69</td>\n",
       "      <td>21.25</td>\n",
       "      <td>130.00</td>\n",
       "      <td>1203.0</td>\n",
       "      <td>0.10960</td>\n",
       "      <td>0.15990</td>\n",
       "      <td>0.1974</td>\n",
       "      <td>0.12790</td>\n",
       "      <td>...</td>\n",
       "      <td>23.57</td>\n",
       "      <td>25.53</td>\n",
       "      <td>152.50</td>\n",
       "      <td>1709.0</td>\n",
       "      <td>0.1444</td>\n",
       "      <td>0.4245</td>\n",
       "      <td>0.4504</td>\n",
       "      <td>0.2430</td>\n",
       "      <td>0.3613</td>\n",
       "      <td>0.08758</td>\n",
       "    </tr>\n",
       "    <tr>\n",
       "      <th>3</th>\n",
       "      <td>84348301</td>\n",
       "      <td>M</td>\n",
       "      <td>11.42</td>\n",
       "      <td>20.38</td>\n",
       "      <td>77.58</td>\n",
       "      <td>386.1</td>\n",
       "      <td>0.14250</td>\n",
       "      <td>0.28390</td>\n",
       "      <td>0.2414</td>\n",
       "      <td>0.10520</td>\n",
       "      <td>...</td>\n",
       "      <td>14.91</td>\n",
       "      <td>26.50</td>\n",
       "      <td>98.87</td>\n",
       "      <td>567.7</td>\n",
       "      <td>0.2098</td>\n",
       "      <td>0.8663</td>\n",
       "      <td>0.6869</td>\n",
       "      <td>0.2575</td>\n",
       "      <td>0.6638</td>\n",
       "      <td>0.17300</td>\n",
       "    </tr>\n",
       "    <tr>\n",
       "      <th>4</th>\n",
       "      <td>84358402</td>\n",
       "      <td>M</td>\n",
       "      <td>20.29</td>\n",
       "      <td>14.34</td>\n",
       "      <td>135.10</td>\n",
       "      <td>1297.0</td>\n",
       "      <td>0.10030</td>\n",
       "      <td>0.13280</td>\n",
       "      <td>0.1980</td>\n",
       "      <td>0.10430</td>\n",
       "      <td>...</td>\n",
       "      <td>22.54</td>\n",
       "      <td>16.67</td>\n",
       "      <td>152.20</td>\n",
       "      <td>1575.0</td>\n",
       "      <td>0.1374</td>\n",
       "      <td>0.2050</td>\n",
       "      <td>0.4000</td>\n",
       "      <td>0.1625</td>\n",
       "      <td>0.2364</td>\n",
       "      <td>0.07678</td>\n",
       "    </tr>\n",
       "  </tbody>\n",
       "</table>\n",
       "<p>5 rows × 32 columns</p>\n",
       "</div>"
      ],
      "text/plain": [
       "         0  1      2      3       4       5        6        7       8   \\\n",
       "0    842302  M  17.99  10.38  122.80  1001.0  0.11840  0.27760  0.3001   \n",
       "1    842517  M  20.57  17.77  132.90  1326.0  0.08474  0.07864  0.0869   \n",
       "2  84300903  M  19.69  21.25  130.00  1203.0  0.10960  0.15990  0.1974   \n",
       "3  84348301  M  11.42  20.38   77.58   386.1  0.14250  0.28390  0.2414   \n",
       "4  84358402  M  20.29  14.34  135.10  1297.0  0.10030  0.13280  0.1980   \n",
       "\n",
       "        9   ...     22     23      24      25      26      27      28      29  \\\n",
       "0  0.14710  ...  25.38  17.33  184.60  2019.0  0.1622  0.6656  0.7119  0.2654   \n",
       "1  0.07017  ...  24.99  23.41  158.80  1956.0  0.1238  0.1866  0.2416  0.1860   \n",
       "2  0.12790  ...  23.57  25.53  152.50  1709.0  0.1444  0.4245  0.4504  0.2430   \n",
       "3  0.10520  ...  14.91  26.50   98.87   567.7  0.2098  0.8663  0.6869  0.2575   \n",
       "4  0.10430  ...  22.54  16.67  152.20  1575.0  0.1374  0.2050  0.4000  0.1625   \n",
       "\n",
       "       30       31  \n",
       "0  0.4601  0.11890  \n",
       "1  0.2750  0.08902  \n",
       "2  0.3613  0.08758  \n",
       "3  0.6638  0.17300  \n",
       "4  0.2364  0.07678  \n",
       "\n",
       "[5 rows x 32 columns]"
      ]
     },
     "execution_count": 2,
     "metadata": {},
     "output_type": "execute_result"
    }
   ],
   "source": [
    "df = pd.read_csv(\"https://archive.ics.uci.edu/ml/machine-learning-databases/breast-cancer-wisconsin/wdbc.data\", sep=\",\", header=None)\n",
    "\n",
    "df.head()"
   ]
  },
  {
   "cell_type": "markdown",
   "metadata": {
    "colab_type": "text",
    "id": "HTXgNVxD2VYp"
   },
   "source": [
    "### Dataprep\n",
    "\n",
    "Data preprocessing for Autoencoder require less effort than canonical Neural Networks. First, there is no need to split the data in train and test set, since my goal is just to produce a compressed version of the same dataset. Second, data do not require any labeling; we are in the field of unsupervised Machine Learning."
   ]
  },
  {
   "cell_type": "code",
   "execution_count": 3,
   "metadata": {
    "colab": {},
    "colab_type": "code",
    "id": "R1NPnVJRbUbe"
   },
   "outputs": [],
   "source": [
    "# get one-hot encoded target variable:\n",
    "target = pd.get_dummies(df.iloc[:,1])\n",
    "target = target.values.astype(np.float32) #convert to float32 for later\n",
    "\n",
    "# I don't need the first two columns:\n",
    "# the first is an id, the other is the target variable ('M'/'B')\n",
    "df = df.iloc[:,2:]\n",
    "df = df.values   # Turn to numpy object"
   ]
  },
  {
   "cell_type": "code",
   "execution_count": 4,
   "metadata": {
    "colab": {},
    "colab_type": "code",
    "id": "8MZswZsz2POl"
   },
   "outputs": [],
   "source": [
    "# Normalize the data\n",
    "# no need to use sklearn StandardScaler() this time, but you can if you want\n",
    "def normalize(x):\n",
    "    normalized = (x - np.mean(x))/(np.std(x))\n",
    "    return normalized\n",
    "\n",
    "for i in range(df.shape[1]):\n",
    "    df[:,i] = normalize(df[:,i])"
   ]
  },
  {
   "cell_type": "markdown",
   "metadata": {
    "colab_type": "text",
    "id": "Ibv0OMUj7sdH"
   },
   "source": [
    "### Architecture\n",
    "\n",
    "Given the shape of my training dataframe:"
   ]
  },
  {
   "cell_type": "code",
   "execution_count": 5,
   "metadata": {
    "colab": {
     "base_uri": "https://localhost:8080/",
     "height": 35
    },
    "colab_type": "code",
    "executionInfo": {
     "elapsed": 2590,
     "status": "ok",
     "timestamp": 1550692670707,
     "user": {
      "displayName": "Ivan Bongiorni",
      "photoUrl": "https://lh6.googleusercontent.com/-saQtoUWf1x0/AAAAAAAAAAI/AAAAAAAADl0/slMwgVYQe0w/s64/photo.jpg",
      "userId": "13961768404337863095"
     },
     "user_tz": -60
    },
    "id": "Ac14zUWt-tGG",
    "outputId": "008f1378-74d7-40c0-b6a5-dc6342fcd757"
   },
   "outputs": [
    {
     "data": {
      "text/plain": [
       "(569, 30)"
      ]
     },
     "execution_count": 5,
     "metadata": {},
     "output_type": "execute_result"
    }
   ],
   "source": [
    "df.shape"
   ]
  },
  {
   "cell_type": "markdown",
   "metadata": {
    "colab_type": "text",
    "id": "J-cA8x_D-6bo"
   },
   "source": [
    "I must now choose an Autoencoder architecture. I want to compress a `(569, 30)` shaped dataset to a `(569, 10)` encoded version. This is an arbitrary choice. In real datascience problems the chioce depends from the nature of your specific dataset (and your specific needs), there is no general rule to determine the right number of encoded variables to be obtained.\n"
   ]
  },
  {
   "cell_type": "code",
   "execution_count": 6,
   "metadata": {
    "colab": {},
    "colab_type": "code",
    "id": "qus4X_4XH0V8"
   },
   "outputs": [],
   "source": [
    "# I choose the size of each layer\n",
    "\n",
    "n_input_layer = df.shape[1]\n",
    "n_hidden1 = 30\n",
    "n_hidden2 = 15\n",
    "n_hidden3 = 15\n",
    "\n",
    "n_encoding_layer = 10\n",
    "\n",
    "n_hidden5 = 15\n",
    "n_hidden6 = 15\n",
    "n_hidden7 = 30\n",
    "n_output_layer = n_input_layer  # size of output layer = size of input layer, of course"
   ]
  },
  {
   "cell_type": "markdown",
   "metadata": {
    "colab_type": "text",
    "id": "ITiY0308HcuD"
   },
   "source": [
    "As you can see, the architecture of the Network si perfectly symmetric. Of course, Encoder and Decoder don't need to be the exact mirror image of each other."
   ]
  },
  {
   "cell_type": "code",
   "execution_count": 7,
   "metadata": {
    "colab": {},
    "colab_type": "code",
    "id": "kcOyYg3Q8OZY"
   },
   "outputs": [],
   "source": [
    "from tensorflow.keras.layers import Dense\n",
    "from tensorflow.keras.activations import elu\n",
    "\n",
    "Autoencoder = tf.keras.models.Sequential([\n",
    "    # ENCODER\n",
    "    Dense(n_input_layer, input_shape = (n_input_layer,), activation = elu),   # Input layer    \n",
    "    Dense(n_hidden1, activation = elu), # hidden layer 1    \n",
    "    Dense(n_hidden2, activation = elu), # hidden layer 2    \n",
    "    Dense(n_hidden3, activation = elu), # hidden layer 3\n",
    "    \n",
    "    # CENTRAL LAYER\n",
    "    Dense(n_encoding_layer, activation = elu, name = 'central_layer'), \n",
    "    \n",
    "    # DECODER\n",
    "    Dense(n_hidden5, activation = elu), # hidden layer 5\n",
    "    Dense(n_hidden6, activation = elu), # hidden layer 6\n",
    "    Dense(n_hidden7, activation = elu), # hidden layer 7\n",
    "    Dense(n_output_layer, activation = elu)  # Output layer\n",
    "])"
   ]
  },
  {
   "cell_type": "markdown",
   "metadata": {
    "colab_type": "text",
    "id": "HrgXlzQMWzek"
   },
   "source": [
    "Now that the Network's structure is ready, let me define other hyperparameters:"
   ]
  },
  {
   "cell_type": "code",
   "execution_count": 8,
   "metadata": {
    "colab": {},
    "colab_type": "code",
    "id": "X6iFujQiXZwR"
   },
   "outputs": [],
   "source": [
    "# number of epochs\n",
    "n_epochs = 5000\n",
    "\n",
    "# Loss: mean squared error\n",
    "loss = tf.keras.losses.MeanSquaredError()\n",
    "\n",
    "# Adam Optimizer\n",
    "optimizer = tf.optimizers.Adam(learning_rate = 0.0005)"
   ]
  },
  {
   "cell_type": "markdown",
   "metadata": {
    "colab_type": "text",
    "id": "1KiGUWCol-uG"
   },
   "source": [
    "### Training"
   ]
  },
  {
   "cell_type": "code",
   "execution_count": 9,
   "metadata": {
    "colab": {
     "base_uri": "https://localhost:8080/",
     "height": 968
    },
    "colab_type": "code",
    "executionInfo": {
     "elapsed": 32395,
     "status": "ok",
     "timestamp": 1550692700669,
     "user": {
      "displayName": "Ivan Bongiorni",
      "photoUrl": "https://lh6.googleusercontent.com/-saQtoUWf1x0/AAAAAAAAAAI/AAAAAAAADl0/slMwgVYQe0w/s64/photo.jpg",
      "userId": "13961768404337863095"
     },
     "user_tz": -60
    },
    "id": "Oevz4mHWmCKs",
    "outputId": "0e0cedfe-d45f-4a1d-cc35-78086e7efe47"
   },
   "outputs": [
    {
     "name": "stdout",
     "output_type": "stream",
     "text": [
      "200.\tLoss: 0.2983798086643219\n",
      "400.\tLoss: 0.16014118492603302\n",
      "600.\tLoss: 0.11733168363571167\n",
      "800.\tLoss: 0.09321168065071106\n",
      "1000.\tLoss: 0.07829537242650986\n",
      "1200.\tLoss: 0.07143492251634598\n",
      "1400.\tLoss: 0.06630369275808334\n",
      "1600.\tLoss: 0.06210746988654137\n",
      "1800.\tLoss: 0.059432562440633774\n",
      "2000.\tLoss: 0.057390931993722916\n",
      "2200.\tLoss: 0.05561588332056999\n",
      "2400.\tLoss: 0.05405626446008682\n",
      "2600.\tLoss: 0.052680548280477524\n",
      "2800.\tLoss: 0.05113258957862854\n",
      "3000.\tLoss: 0.04885231703519821\n",
      "3200.\tLoss: 0.04681725054979324\n",
      "3400.\tLoss: 0.045288633555173874\n",
      "3600.\tLoss: 0.04415624216198921\n",
      "3800.\tLoss: 0.04331396520137787\n",
      "4000.\tLoss: 0.042595453560352325\n",
      "4200.\tLoss: 0.0420219786465168\n",
      "4400.\tLoss: 0.04152001813054085\n",
      "4600.\tLoss: 0.04105399176478386\n",
      "4800.\tLoss: 0.04111744463443756\n",
      "5000.\tLoss: 0.04028546065092087\n",
      "\n",
      "Encoding complete\n"
     ]
    }
   ],
   "source": [
    "\n",
    "loss_history = []  # save loss improvement\n",
    "\n",
    "for epoch in range(n_epochs):\n",
    "    \n",
    "    with tf.GradientTape() as tape:\n",
    "        current_loss = loss(Autoencoder(df), df)\n",
    "    \n",
    "    gradients = tape.gradient(current_loss, Autoencoder.trainable_variables)    # get the gradient of the loss function\n",
    "    optimizer.apply_gradients(zip(gradients, Autoencoder.trainable_variables))  # update the weights\n",
    "    \n",
    "    loss_history.append(current_loss.numpy())  # save current loss in its history\n",
    "    \n",
    "    # show loss improvement every 200 epochs\n",
    "    if (epoch+1) % 200 == 0:\n",
    "        print(str(epoch+1) + '.\\tLoss: ' + str(current_loss.numpy()))\n",
    "#\n",
    "print('\\nEncoding complete')"
   ]
  },
  {
   "cell_type": "markdown",
   "metadata": {
    "colab_type": "text",
    "id": "8xMVYavgX3x6"
   },
   "source": [
    "The computation of `current_loss` deserves attention.\n",
    "\n",
    "As explained above, an Autoencoder doesn't require a dependent variable, i.e. the loss function will not contain any \"test data\". We only need to train the Autoencoder to replicate the input data at the output layer (like comparing the initial dataset with a copy of itself), that's why we are minimizing the distance between the Network's output `Autoencoder(df)` and the actual `df`."
   ]
  },
  {
   "cell_type": "markdown",
   "metadata": {},
   "source": [
    "### Check compression improvements visually"
   ]
  },
  {
   "cell_type": "code",
   "execution_count": 10,
   "metadata": {
    "colab": {
     "base_uri": "https://localhost:8080/",
     "height": 362
    },
    "colab_type": "code",
    "executionInfo": {
     "elapsed": 32653,
     "status": "ok",
     "timestamp": 1550692700950,
     "user": {
      "displayName": "Ivan Bongiorni",
      "photoUrl": "https://lh6.googleusercontent.com/-saQtoUWf1x0/AAAAAAAAAAI/AAAAAAAADl0/slMwgVYQe0w/s64/photo.jpg",
      "userId": "13961768404337863095"
     },
     "user_tz": -60
    },
    "id": "p2f1s2U2mpqK",
    "outputId": "6c996b63-ca02-47f7-a2f5-32d034773300"
   },
   "outputs": [
    {
     "data": {
      "image/png": "[encoded data removed]",
      "text/plain": [
       "<Figure size 432x288 with 1 Axes>"
      ]
     },
     "metadata": {
      "needs_background": "light"
     },
     "output_type": "display_data"
    }
   ],
   "source": [
    "plt.plot(loss_history)\n",
    "plt.title(\"Autoencoder's training improvement\")\n",
    "plt.xlabel('Epochs')\n",
    "plt.ylabel('Mean Squared Error')\n",
    "plt.show()"
   ]
  },
  {
   "cell_type": "markdown",
   "metadata": {},
   "source": [
    "## 4. Extraction of the encoded dataframe\n",
    "\n",
    "Now that the training of the Autoencoder is done, we can extract our data at the central layer, where they received the strongest compression.\n",
    "\n",
    "In order to do that, we must create an apposite **extraction function** using the **Keras backend submodule**. We use it to implement a Keras function that takes the Autoencoder's input layer as input, and returns the outcome of the central layer as output."
   ]
  },
  {
   "cell_type": "code",
   "execution_count": 11,
   "metadata": {},
   "outputs": [
    {
     "name": "stdout",
     "output_type": "stream",
     "text": [
      "(569, 10)\n"
     ]
    }
   ],
   "source": [
    "from tensorflow.keras import backend as K\n",
    "\n",
    "# create a Keras function\n",
    "extract_encoded_data = K.function(inputs = Autoencoder.layers[0].input, \n",
    "                                  outputs = Autoencoder.layers[4].output)\n",
    "\n",
    "# extract encoded dataframe\n",
    "encoded_dataframe = extract_encoded_data(df)\n",
    "\n",
    "print(encoded_dataframe.shape)"
   ]
  },
  {
   "cell_type": "markdown",
   "metadata": {},
   "source": [
    "I defined `Autoencoder.layers[4]` as the output of that function, since `.layers[4]` is the index of the central layer that compressed my initial dataframe."
   ]
  },
  {
   "cell_type": "markdown",
   "metadata": {
    "colab_type": "text",
    "id": "mEDmoV4dfSD4"
   },
   "source": [
    "## 5. Practical application\n",
    "\n",
    "Now that we have an encoded version of our initial dataset, we can use it for our Machine Learning task. Let's implement a Neural Network Classifier and train it on the encoded dataset! Because I want to save time, I'll make it in the most minimal way I know; however, if you need more details, please check [my other tutorials](https://github.com/IvanBongiorni/TensorFlow2.0_Tutorial) in which all of these passages are explained in more detail."
   ]
  },
  {
   "cell_type": "code",
   "execution_count": 12,
   "metadata": {},
   "outputs": [],
   "source": [
    "\n",
    "# Train-Test split\n",
    "from sklearn.model_selection import train_test_split\n",
    "X_train, X_test, y_train, y_test = train_test_split(encoded_dataframe, target, test_size=0.25, random_state=173)\n",
    "\n",
    "# Scaling of data\n",
    "from sklearn.preprocessing import StandardScaler\n",
    "scaler = StandardScaler()\n",
    "X_train = scaler.fit_transform(X_train)\n",
    "X_test = scaler.transform(X_test)\n",
    "\n",
    "# Model architecture - layers: [10, 5, 5, 2]\n",
    "from tensorflow.keras.layers import Dense\n",
    "from tensorflow.keras.activations import elu, softmax\n",
    "\n",
    "model = tf.keras.models.Sequential([\n",
    "    Dense(10, input_shape = (X_train.shape[1], ), activation = elu), \n",
    "    Dense(5, activation = elu), \n",
    "    Dense(5, activation = elu),     \n",
    "    Dense(2, activation = softmax)])\n",
    "\n",
    "bce_loss = tf.keras.losses.BinaryCrossentropy()\n",
    "optimizer = tf.optimizers.Adam(learning_rate = 0.001)\n",
    "\n",
    "# Training\n",
    "for epoch in range(500):\n",
    "    with tf.GradientTape() as tape:\n",
    "        current_loss = bce_loss(model(X_train), y_train)    \n",
    "    gradients = tape.gradient(current_loss, model.trainable_variables)\n",
    "    optimizer.apply_gradients(zip(gradients, model.trainable_variables))"
   ]
  },
  {
   "cell_type": "markdown",
   "metadata": {},
   "source": [
    "Let's check its predictions:"
   ]
  },
  {
   "cell_type": "code",
   "execution_count": 13,
   "metadata": {},
   "outputs": [
    {
     "name": "stdout",
     "output_type": "stream",
     "text": [
      "[[86  1]\n",
      " [ 3 53]]\n"
     ]
    }
   ],
   "source": [
    "prediction = model.predict(X_test)  # prediction of test data\n",
    "prediction = np.argmax(prediction, axis=1)  # reverse one-hot encoding\n",
    "testdata = np.argmax(y_test, axis=1)  # reverse for target data too\n",
    "\n",
    "from sklearn.metrics import confusion_matrix\n",
    "CM = confusion_matrix(prediction, testdata)\n",
    "print(CM)"
   ]
  },
  {
   "cell_type": "code",
   "execution_count": 14,
   "metadata": {},
   "outputs": [
    {
     "data": {
      "image/png": "[encoded data removed]",
      "text/plain": [
       "<Figure size 432x288 with 2 Axes>"
      ]
     },
     "metadata": {
      "needs_background": "light"
     },
     "output_type": "display_data"
    }
   ],
   "source": [
    "import seaborn\n",
    "seaborn.heatmap(CM, annot=True)\n",
    "plt.show()"
   ]
  },
  {
   "cell_type": "code",
   "execution_count": 15,
   "metadata": {},
   "outputs": [
    {
     "name": "stdout",
     "output_type": "stream",
     "text": [
      "Test Accuracy: 0.972027972027972\n"
     ]
    }
   ],
   "source": [
    "print('Test Accuracy: ' + str(np.sum(np.diag(CM)) / np.sum(CM)))"
   ]
  },
  {
   "cell_type": "markdown",
   "metadata": {},
   "source": [
    "Cool, I have achieved pretty much the same accuracy that I reached with the [full-Batch model in my first Notebook](https://github.com/IvanBongiorni/TensorFlow2.0_Tutorial/blob/master/TensorFlow2.0_01_basic_Classifier.ipynb)! But this time using a much lighter model trained on a compressed version of the original dataframe.\n",
    "\n",
    "This is the power of Autoencoders. You'll find that computational times will be much slower, and with very similar results. In case of very multicollinear datasets, you might even find a significant improvement in your model performance."
   ]
  },
  {
   "cell_type": "markdown",
   "metadata": {},
   "source": [
    "..."
   ]
  },
  {
   "cell_type": "markdown",
   "metadata": {},
   "source": [
    "PS: If you want to encode many dataframes, make sure you remember [how to save and restore it](https://github.com/IvanBongiorni/TensorFlow2.0_Tutorial/blob/master/TensorFlow_2.0_03_Save_and_Restore_models.ipynb)!"
   ]
  }
 ],
 "metadata": {
  "colab": {
   "collapsed_sections": [],
   "name": "TensorFlow_3_Autoencoder_Dimensionality_Reduction.ipynb",
   "provenance": [],
   "toc_visible": true,
   "version": "0.3.2"
  },
  "kernelspec": {
   "display_name": "Python 3",
   "language": "python",
   "name": "python3"
  },
  "language_info": {
   "codemirror_mode": {
    "name": "ipython",
    "version": 3
   },
   "file_extension": ".py",
   "mimetype": "text/x-python",
   "name": "python",
   "nbconvert_exporter": "python",
   "pygments_lexer": "ipython3",
   "version": "3.6.7"
  }
 },
 "nbformat": 4,
 "nbformat_minor": 1
}
