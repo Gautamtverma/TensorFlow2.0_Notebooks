{
 "cells": [
  {
   "cell_type": "markdown",
   "metadata": {},
   "source": [
    "# Convolutional Neural Network\n",
    "\n",
    "### Author: Ivan Bongiorni, Data Scientist at GfK.\n",
    "\n",
    "[LinkedIn profile](https://www.linkedin.com/in/ivan-bongiorni-b8a583164/)\n",
    "\n",
    "In this Notebook I will implement a **basic CNN in TensorFlow 2.0**. I will use the famous **Fashion MNIST** dataset, [published by Zalando](https://github.com/zalandoresearch/fashion-mnist) and made [available on Kaggle](https://www.kaggle.com/zalando-research/fashionmnist). Images come already preprocessed in 28 x 28 black and white format.\n",
    "\n",
    "It is a multiclass classification task on the following labels:\n",
    "0. T-shirt/top\n",
    "1. Trouser\n",
    "2. Pullover\n",
    "3. Dress\n",
    "4. Coat\n",
    "5. Sandal\n",
    "6. Shirt\n",
    "7. Sneaker\n",
    "8. Bag\n",
    "9. Ankle boot "
   ]
  },
  {
   "cell_type": "markdown",
   "metadata": {},
   "source": [
    "![](https://limetta.se/globalassets/nyhetbloggpress-bilder/fashion-mnist.jpg)"
   ]
  },
  {
   "cell_type": "markdown",
   "metadata": {},
   "source": [
    "Summary:\n",
    "\n",
    "0. Import data + Dataprep\n",
    "0. CNN architecture\n",
    "0. Training with Mini Batch Gradient Descent\n",
    "0. Test"
   ]
  },
  {
   "cell_type": "code",
   "execution_count": 2,
   "metadata": {},
   "outputs": [
    {
     "name": "stdout",
     "output_type": "stream",
     "text": [
      "2.0.0-beta0\n"
     ]
    }
   ],
   "source": [
    "# Import necessary modules\n",
    "\n",
    "import numpy as np\n",
    "import pandas as pd\n",
    "\n",
    "import tensorflow as tf\n",
    "print(tf.__version__)\n",
    "\n",
    "from sklearn.utils import shuffle\n",
    "\n",
    "from matplotlib import pyplot as plt\n",
    "import seaborn"
   ]
  },
  {
   "cell_type": "markdown",
   "metadata": {},
   "source": [
    "# 0. Import data + Dataprep\n",
    "\n",
    "The dataset comes already divided in 60k and 10k Train and Test images. I will now import Training data, and leave Test for later. In order to dataprep image data, I need to reshape the pixel into `(, 28, 28, 1)` arrays; the 1 at the end represents the channel: 1 for black and white images, 3 (red, green, blue) for colored images. Pixel data are also scaled to the `[0, 1]` interval."
   ]
  },
  {
   "cell_type": "code",
   "execution_count": 3,
   "metadata": {},
   "outputs": [],
   "source": [
    "df = pd.read_csv('fashion-mnist_train.csv')\n",
    "\n",
    "# extract labels, one-hot encode them\n",
    "label = df.label\n",
    "label = pd.get_dummies(label)\n",
    "label = label.values\n",
    "label = label.astype(np.float32)\n",
    "\n",
    "df.drop('label', axis = 1, inplace = True)\n",
    "df = df.values\n",
    "df = df.astype(np.float32)\n",
    "\n",
    "# reshape and scale data\n",
    "df = df.reshape((len(df), 28, 28, 1))\n",
    "df = df / 255."
   ]
  },
  {
   "cell_type": "markdown",
   "metadata": {},
   "source": [
    "# 1. CNN architecture\n",
    "\n",
    "I will feed images into a set of **convolutional** and **max-pooling layers**:\n",
    "\n",
    "- Conv layers are meant to extract relevant informations from pixel data. A number of *filters* scroll through the image, learning the most relevant informations to extract.\n",
    "- Max-Pool layers instead are meant to drastically reduce the number of pixel data. For each (2, 2) window size, Max-Pool will save only the pixel with the highest activation value. Max-Pool is meant to make the model lighter by removing the least relevant observations, at the cost of course of loosing a lot of data!\n",
    "\n",
    "Since I'm focused on the implementation, rather than on the theory behind it, please refer to [this good article](https://towardsdatascience.com/types-of-convolutions-in-deep-learning-717013397f4d) on how Conv and Max-Pool work in practice. If you are a die-hard, check [this awesome page from a CNN Stanford Course](http://cs231n.github.io/convolutional-networks/?source=post_page---------------------------#overview).\n",
    "\n",
    "Con and Max-Pool will extract and reduce the size of the input, so that the following feed-forward part could process it. The first convolutional layer requires a specification of the input shape, corresponding to the shape of each image.\n",
    "\n",
    "Since it's a multiclass classification tasks, softmax activation must be placed at the output layer in order to transform the Network's output into a probability distribution over the ten target categories."
   ]
  },
  {
   "cell_type": "code",
   "execution_count": 2,
   "metadata": {},
   "outputs": [],
   "source": [
    "from tensorflow.keras import Sequential\n",
    "from tensorflow.keras.layers import Conv2D, MaxPool2D, Flatten, Dense, BatchNormalization, Dropout\n",
    "from tensorflow.keras.activations import relu, elu, softmax\n",
    "\n",
    "\n",
    "CNN = Sequential([\n",
    "    \n",
    "    Conv2D(32, kernel_size = (3, 3), activation = elu, \n",
    "           kernel_initializer = 'he_normal', input_shape = (28, 28, 1)), \n",
    "    MaxPool2D((2, 2)), \n",
    "    \n",
    "    Conv2D(64, kernel_size = (3, 3), kernel_initializer = 'he_normal', activation = elu), \n",
    "    BatchNormalization(), \n",
    "    \n",
    "    Conv2D(128, kernel_size = (3, 3), kernel_initializer = 'he_normal', activation = elu), \n",
    "    BatchNormalization(), \n",
    "    Dropout(0.2), \n",
    "    \n",
    "    \n",
    "    Flatten(), \n",
    "    \n",
    "    \n",
    "    Dense(400, activation = elu), \n",
    "    BatchNormalization(), \n",
    "    Dropout(0.2), \n",
    "    \n",
    "    Dense(400, activation = elu), \n",
    "    BatchNormalization(), \n",
    "    Dropout(0.2), \n",
    "    \n",
    "    Dense(10, activation = softmax)\n",
    "    \n",
    "])\n"
   ]
  },
  {
   "cell_type": "code",
   "execution_count": 1,
   "metadata": {},
   "outputs": [
    {
     "name": "stdout",
     "output_type": "stream",
     "text": [
      "Model: \"sequential\"\n",
      "_________________________________________________________________\n",
      "Layer (type)                 Output Shape              Param #   \n",
      "=================================================================\n",
      "conv2d (Conv2D)              (None, 26, 26, 32)        320       \n",
      "_________________________________________________________________\n",
      "max_pooling2d (MaxPooling2D) (None, 13, 13, 32)        0         \n",
      "_________________________________________________________________\n",
      "conv2d_1 (Conv2D)            (None, 11, 11, 64)        18496     \n",
      "_________________________________________________________________\n",
      "batch_normalization (BatchNo (None, 11, 11, 64)        256       \n",
      "_________________________________________________________________\n",
      "conv2d_2 (Conv2D)            (None, 9, 9, 128)         73856     \n",
      "_________________________________________________________________\n",
      "batch_normalization_1 (Batch (None, 9, 9, 128)         512       \n",
      "_________________________________________________________________\n",
      "dropout (Dropout)            (None, 9, 9, 128)         0         \n",
      "_________________________________________________________________\n",
      "flatten (Flatten)            (None, 10368)             0         \n",
      "_________________________________________________________________\n",
      "dense (Dense)                (None, 400)               4147600   \n",
      "_________________________________________________________________\n",
      "batch_normalization_2 (Batch (None, 400)               1600      \n",
      "_________________________________________________________________\n",
      "dropout_1 (Dropout)          (None, 400)               0         \n",
      "_________________________________________________________________\n",
      "dense_1 (Dense)              (None, 400)               160400    \n",
      "_________________________________________________________________\n",
      "batch_normalization_3 (Batch (None, 400)               1600      \n",
      "_________________________________________________________________\n",
      "dropout_2 (Dropout)          (None, 400)               0         \n",
      "_________________________________________________________________\n",
      "dense_2 (Dense)              (None, 10)                4010      \n",
      "=================================================================\n",
      "Total params: 4,408,650\n",
      "Trainable params: 4,406,666\n",
      "Non-trainable params: 1,984\n",
      "_________________________________________________________________\n"
     ]
    }
   ],
   "source": [
    "CNN.summary()"
   ]
  },
  {
   "cell_type": "code",
   "execution_count": null,
   "metadata": {},
   "outputs": [],
   "source": []
  },
  {
   "cell_type": "markdown",
   "metadata": {},
   "source": [
    "# 2. Training with Mini Batch Gradient Descent\n",
    "\n",
    "The training part is no different from mini batch gradient descent training of feed-forward classifiers. I wrote [a Notebook on this technique](https://github.com/IvanBongiorni/TensorFlow2.0_Tutorial/blob/master/TensorFlow2.0_02_MiniBatch_Gradient_Descent.ipynb) in which I explain it in more detail.\n",
    "\n",
    "Assuming you already know how it works, I will define a function to fetch mini batches into the Network and process with training in eager execution."
   ]
  },
  {
   "cell_type": "code",
   "execution_count": 6,
   "metadata": {},
   "outputs": [],
   "source": [
    "@tf.function\n",
    "def fetch_batch(X, y, batch_size, epoch):\n",
    "    start = epoch*batch_size\n",
    "    \n",
    "    X_batch = X[start:start+batch_size, :, :]\n",
    "    y_batch = y[start:start+batch_size, :]\n",
    "    \n",
    "    return X_batch, y_batch"
   ]
  },
  {
   "cell_type": "code",
   "execution_count": 7,
   "metadata": {},
   "outputs": [],
   "source": [
    "# To measure execution time\n",
    "import time\n",
    "start = time.time()"
   ]
  },
  {
   "cell_type": "markdown",
   "metadata": {},
   "source": [
    "There is one big difference with respect to previous training exercises. Since this Network has a high number of parameters (approx 4.4 million) it will require comparatively longer training times. For this reason, I will measure training not just in *epochs*, but also in *cycles*.\n",
    "\n",
    "At each training cycle, I will shuffle the dataset and feed it into the Network in mini batches until it's completed. At the following cycle, I will reshuffle the data using a different random seed and repeat the process. (What I called cycles are nothing but Keras' \"epochs\".)\n",
    "\n",
    "Using 50 cycles and batches of size 120 on a 60.000 images dataset, I will be able to train my CNN for an overall number of 25.000 epochs."
   ]
  },
  {
   "cell_type": "code",
   "execution_count": 8,
   "metadata": {},
   "outputs": [
    {
     "name": "stdout",
     "output_type": "stream",
     "text": [
      "1.\tTraining Loss: 2.963158,\tAccuracy: 0.825\n",
      "2.\tTraining Loss: 2.2184157,\tAccuracy: 0.875\n",
      "3.\tTraining Loss: 1.6165245,\tAccuracy: 0.90833336\n",
      "4.\tTraining Loss: 1.8334527,\tAccuracy: 0.89166665\n",
      "5.\tTraining Loss: 1.2200023,\tAccuracy: 0.93333334\n",
      "6.\tTraining Loss: 1.9942344,\tAccuracy: 0.89166665\n",
      "7.\tTraining Loss: 2.1937194,\tAccuracy: 0.8833333\n",
      "8.\tTraining Loss: 1.8208188,\tAccuracy: 0.89166665\n",
      "9.\tTraining Loss: 1.6057307,\tAccuracy: 0.9\n",
      "10.\tTraining Loss: 1.036152,\tAccuracy: 0.94166666\n",
      "11.\tTraining Loss: 1.1800997,\tAccuracy: 0.925\n",
      "12.\tTraining Loss: 0.9550361,\tAccuracy: 0.9583333\n",
      "13.\tTraining Loss: 0.71287704,\tAccuracy: 0.96666664\n",
      "14.\tTraining Loss: 1.1355927,\tAccuracy: 0.93333334\n",
      "15.\tTraining Loss: 0.42137903,\tAccuracy: 0.975\n",
      "16.\tTraining Loss: 1.2537751,\tAccuracy: 0.925\n",
      "17.\tTraining Loss: 0.6678084,\tAccuracy: 0.96666664\n",
      "18.\tTraining Loss: 0.67579913,\tAccuracy: 0.96666664\n",
      "19.\tTraining Loss: 0.93005073,\tAccuracy: 0.95\n",
      "20.\tTraining Loss: 0.9756758,\tAccuracy: 0.95\n",
      "21.\tTraining Loss: 0.5439663,\tAccuracy: 0.96666664\n",
      "22.\tTraining Loss: 0.48298022,\tAccuracy: 0.975\n",
      "23.\tTraining Loss: 0.71461415,\tAccuracy: 0.96666664\n",
      "24.\tTraining Loss: 0.59260106,\tAccuracy: 0.96666664\n",
      "25.\tTraining Loss: 0.52771163,\tAccuracy: 0.975\n",
      "26.\tTraining Loss: 0.70353717,\tAccuracy: 0.96666664\n",
      "27.\tTraining Loss: 0.8188721,\tAccuracy: 0.95\n",
      "28.\tTraining Loss: 0.5126863,\tAccuracy: 0.975\n",
      "29.\tTraining Loss: 0.45719293,\tAccuracy: 0.975\n",
      "30.\tTraining Loss: 0.54228246,\tAccuracy: 0.96666664\n",
      "31.\tTraining Loss: 0.55225444,\tAccuracy: 0.96666664\n",
      "32.\tTraining Loss: 0.9566125,\tAccuracy: 0.94166666\n",
      "33.\tTraining Loss: 0.29893246,\tAccuracy: 0.98333335\n",
      "34.\tTraining Loss: 0.70337826,\tAccuracy: 0.9583333\n",
      "35.\tTraining Loss: 0.5612643,\tAccuracy: 0.96666664\n",
      "36.\tTraining Loss: 0.59767526,\tAccuracy: 0.96666664\n",
      "37.\tTraining Loss: 0.67508984,\tAccuracy: 0.96666664\n",
      "38.\tTraining Loss: 0.67434996,\tAccuracy: 0.9583333\n",
      "39.\tTraining Loss: 0.0228432,\tAccuracy: 1.0\n",
      "40.\tTraining Loss: 0.2526902,\tAccuracy: 0.9916667\n",
      "41.\tTraining Loss: 0.17682979,\tAccuracy: 0.9916667\n",
      "42.\tTraining Loss: 0.4235972,\tAccuracy: 0.975\n",
      "43.\tTraining Loss: 0.13609551,\tAccuracy: 0.9916667\n",
      "44.\tTraining Loss: 0.5388846,\tAccuracy: 0.96666664\n",
      "45.\tTraining Loss: 0.293708,\tAccuracy: 0.98333335\n",
      "46.\tTraining Loss: 0.04402418,\tAccuracy: 1.0\n",
      "47.\tTraining Loss: 0.5923631,\tAccuracy: 0.96666664\n",
      "48.\tTraining Loss: 0.7310451,\tAccuracy: 0.9583333\n",
      "49.\tTraining Loss: 0.41430146,\tAccuracy: 0.975\n",
      "50.\tTraining Loss: 0.14125405,\tAccuracy: 0.9916667\n",
      "\n",
      "Training complete.\n",
      "Final Loss: 0.14125405. Final accuracy: 0.9916667\n"
     ]
    }
   ],
   "source": [
    "from tensorflow.keras.losses import CategoricalCrossentropy\n",
    "from tensorflow.keras.metrics import CategoricalAccuracy\n",
    "\n",
    "loss = tf.keras.losses.CategoricalCrossentropy()\n",
    "accuracy = tf.keras.metrics.CategoricalAccuracy()\n",
    "\n",
    "optimizer = tf.optimizers.Adam(learning_rate = 0.0001)\n",
    "\n",
    "\n",
    "###  TRAINING\n",
    "\n",
    "cycles = 50\n",
    "batch_size = 120\n",
    "\n",
    "loss_history = []\n",
    "accuracy_history = []\n",
    "\n",
    "for cycle in range(cycles):\n",
    "    \n",
    "    df, label = shuffle(df, label, random_state = cycle**2)\n",
    "    \n",
    "    for epoch in range(len(df) // batch_size):\n",
    "        \n",
    "        X_batch, y_batch = fetch_batch(df, label, batch_size, epoch)\n",
    "        \n",
    "        with tf.GradientTape() as tape:\n",
    "            current_loss = loss(CNN(X_batch), y_batch)\n",
    "        \n",
    "        gradients = tape.gradient(current_loss, CNN.trainable_variables)\n",
    "        optimizer.apply_gradients(zip(gradients, CNN.trainable_variables))\n",
    "        \n",
    "        loss_history.append(current_loss.numpy())\n",
    "        \n",
    "        current_accuracy = accuracy(CNN(X_batch), y_batch).numpy()\n",
    "        accuracy_history.append(current_accuracy)\n",
    "        accuracy.reset_states()\n",
    "        \n",
    "    print(str(cycle + 1) + '.\\tTraining Loss: ' + str(current_loss.numpy()) \n",
    "                  + ',\\tAccuracy: ' + str(current_accuracy))    \n",
    "#\n",
    "print('\\nTraining complete.')\n",
    "print('Final Loss: ' + str(current_loss.numpy()) + '. Final accuracy: ' + str(current_accuracy))"
   ]
  },
  {
   "cell_type": "code",
   "execution_count": 9,
   "metadata": {},
   "outputs": [
    {
     "name": "stdout",
     "output_type": "stream",
     "text": [
      "12431.102645158768\n"
     ]
    }
   ],
   "source": [
    "end = time.time()\n",
    "print(end - start)  # around 3.5 hours :("
   ]
  },
  {
   "cell_type": "code",
   "execution_count": 10,
   "metadata": {},
   "outputs": [
    {
     "data": {
      "image/png": "[encoded data removed]",
      "text/plain": [
       "<Figure size 1080x288 with 2 Axes>"
      ]
     },
     "metadata": {
      "needs_background": "light"
     },
     "output_type": "display_data"
    }
   ],
   "source": [
    "plt.figure(figsize = (15, 4))  # adjust figures size\n",
    "plt.subplots_adjust(wspace=0.2)  # adjust distance\n",
    "\n",
    "from scipy.signal import savgol_filter\n",
    "\n",
    "# loss plot\n",
    "plt.subplot(1, 2, 1)\n",
    "plt.plot(loss_history)\n",
    "plt.plot(savgol_filter(loss_history, len(loss_history)//3, 3))\n",
    "plt.title('Loss')\n",
    "plt.xlabel('epochs')\n",
    "plt.ylabel('Categorical Cross-Entropy')\n",
    "\n",
    "# accuracy plot\n",
    "plt.subplot(1, 2, 2)\n",
    "plt.plot(accuracy_history)\n",
    "plt.plot(savgol_filter(accuracy_history, len(loss_history)//3, 3))\n",
    "plt.title('Accuracy')\n",
    "plt.xlabel('epochs')\n",
    "plt.ylabel('Accuracy')\n",
    "\n",
    "plt.show()"
   ]
  },
  {
   "cell_type": "markdown",
   "metadata": {},
   "source": [
    "# 3. Test\n",
    "\n",
    "Let's now test the model on the Test set. I will repeat the dataprep part on it:"
   ]
  },
  {
   "cell_type": "code",
   "execution_count": 11,
   "metadata": {},
   "outputs": [],
   "source": [
    "# Dataprep Test data\n",
    "\n",
    "test = pd.read_csv('fashion-mnist_test.csv')\n",
    "\n",
    "test_label = pd.get_dummies(test.label)\n",
    "test_label = test_label.values\n",
    "test_label = test_label.astype(np.float32)\n",
    "\n",
    "test.drop('label', axis = 1, inplace = True)\n",
    "test = test.values\n",
    "test = test.astype(np.float32)\n",
    "\n",
    "test = test / 255.\n",
    "\n",
    "test = test.reshape((len(test), 28, 28, 1))\n",
    "\n",
    "prediction = CNN.predict(test)\n",
    "\n",
    "prediction = np.argmax(prediction, axis=1)\n",
    "test_label = np.argmax(test_label, axis=1)  # reverse one-hot encoding"
   ]
  },
  {
   "cell_type": "code",
   "execution_count": 12,
   "metadata": {},
   "outputs": [
    {
     "name": "stdout",
     "output_type": "stream",
     "text": [
      "[[855   2  13  13   4   1  92   0   4   0]\n",
      " [  0 980   2   2   0   2   4   0   1   0]\n",
      " [ 19   1 848   6  23   0  41   0   2   0]\n",
      " [ 18  13   9 926   9   0  23   0   1   0]\n",
      " [  2   1  74  35 936   0  74   1   3   0]\n",
      " [  0   0   0   0   0 963   1   9   0   6]\n",
      " [ 92   2  50  16  26   0 757   0   4   0]\n",
      " [  1   0   0   0   0  17   0 966   2  32]\n",
      " [ 13   1   4   1   2   3   8   0 983   5]\n",
      " [  0   0   0   1   0  14   0  24   0 957]]\n",
      "\n",
      "Test Accuracy: 0.9171\n"
     ]
    }
   ],
   "source": [
    "from sklearn.metrics import confusion_matrix\n",
    "\n",
    "CM = confusion_matrix(prediction, test_label)\n",
    "print(CM)\n",
    "print('\\nTest Accuracy: ' + str(np.sum(np.diag(CM)) / np.sum(CM)))"
   ]
  },
  {
   "cell_type": "code",
   "execution_count": 13,
   "metadata": {},
   "outputs": [
    {
     "data": {
      "image/png": "[encoded data removed]",
      "text/plain": [
       "<Figure size 432x288 with 2 Axes>"
      ]
     },
     "metadata": {
      "needs_background": "light"
     },
     "output_type": "display_data"
    }
   ],
   "source": [
    "seaborn.heatmap(CM, annot=True)\n",
    "plt.show()"
   ]
  },
  {
   "cell_type": "markdown",
   "metadata": {},
   "source": [
    "My Convolutional Neural Network classified 91.7% of Test data correctly. The confusion matrix showed that category no. 6 (Shirt) has been misclassified the most. The next goal is to correct it; one possible solution would be to increase regularization, another to build an ensemble of models."
   ]
  },
  {
   "cell_type": "code",
   "execution_count": null,
   "metadata": {},
   "outputs": [],
   "source": []
  },
  {
   "cell_type": "markdown",
   "metadata": {},
   "source": [
    "Thanks for coming thus far. In the next Notebooks I will implement more advanced Convolutional models, among other things."
   ]
  },
  {
   "cell_type": "code",
   "execution_count": null,
   "metadata": {},
   "outputs": [],
   "source": []
  },
  {
   "cell_type": "code",
   "execution_count": null,
   "metadata": {},
   "outputs": [],
   "source": []
  }
 ],
 "metadata": {
  "kernelspec": {
   "display_name": "Python 3",
   "language": "python",
   "name": "python3"
  },
  "language_info": {
   "codemirror_mode": {
    "name": "ipython",
    "version": 3
   },
   "file_extension": ".py",
   "mimetype": "text/x-python",
   "name": "python",
   "nbconvert_exporter": "python",
   "pygments_lexer": "ipython3",
   "version": "3.6.8"
  }
 },
 "nbformat": 4,
 "nbformat_minor": 2
}
